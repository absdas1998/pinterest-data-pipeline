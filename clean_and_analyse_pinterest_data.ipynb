{
 "cells": [
  {
   "cell_type": "code",
   "execution_count": 0,
   "metadata": {
    "application/vnd.databricks.v1+cell": {
     "cellMetadata": {
      "byteLimit": 2048000,
      "rowLimit": 10000
     },
     "inputWidgets": {},
     "nuid": "b9353fd8-80eb-4dc0-89c0-107ba14e199d",
     "showTitle": false,
     "title": ""
    }
   },
   "outputs": [
    {
     "output_type": "display_data",
     "data": {
      "text/html": [
       "<style scoped>\n",
       "  .ansiout {\n",
       "    display: block;\n",
       "    unicode-bidi: embed;\n",
       "    white-space: pre-wrap;\n",
       "    word-wrap: break-word;\n",
       "    word-break: break-all;\n",
       "    font-family: \"Source Code Pro\", \"Menlo\", monospace;;\n",
       "    font-size: 13px;\n",
       "    color: #555;\n",
       "    margin-left: 4px;\n",
       "    line-height: 19px;\n",
       "  }\n",
       "</style>\n",
       "<div class=\"ansiout\"></div>"
      ]
     },
     "metadata": {
      "application/vnd.databricks.v1+output": {
       "addedWidgets": {},
       "arguments": {},
       "data": "<div class=\"ansiout\"></div>",
       "datasetInfos": [],
       "metadata": {},
       "removedWidgets": [],
       "type": "html"
      }
     },
     "output_type": "display_data"
    }
   ],
   "source": [
    "from pyspark.sql.functions import *\n",
    "from pyspark.sql.types import IntegerType"
   ]
  },
  {
   "cell_type": "code",
   "execution_count": 0,
   "metadata": {
    "application/vnd.databricks.v1+cell": {
     "cellMetadata": {
      "byteLimit": 2048000,
      "rowLimit": 10000
     },
     "inputWidgets": {},
     "nuid": "c8ae862c-c0ac-4fc5-8eee-c5a118f24018",
     "showTitle": false,
     "title": ""
    }
   },
   "outputs": [
    {
     "output_type": "display_data",
     "data": {
      "text/html": [
       "<style scoped>\n",
       "  .ansiout {\n",
       "    display: block;\n",
       "    unicode-bidi: embed;\n",
       "    white-space: pre-wrap;\n",
       "    word-wrap: break-word;\n",
       "    word-break: break-all;\n",
       "    font-family: \"Source Code Pro\", \"Menlo\", monospace;;\n",
       "    font-size: 13px;\n",
       "    color: #555;\n",
       "    margin-left: 4px;\n",
       "    line-height: 19px;\n",
       "  }\n",
       "</style>\n",
       "<div class=\"ansiout\"></div>"
      ]
     },
     "metadata": {
      "application/vnd.databricks.v1+output": {
       "addedWidgets": {},
       "arguments": {},
       "data": "<div class=\"ansiout\"></div>",
       "datasetInfos": [],
       "metadata": {},
       "removedWidgets": [],
       "type": "html"
      }
     },
     "output_type": "display_data"
    }
   ],
   "source": [
    "pin_file_location = \"/mnt/pinterest-data/topics/12a3410ba3cf.pin/partition=0//*.json\"\n",
    "file_type = \"json\"\n",
    "infer_schema = \"true\"\n",
    "df_pin = spark.read.format(file_type) \\\n",
    "                .option(\"inferSchema\", infer_schema) \\\n",
    "                .load(pin_file_location)\n",
    "geo_file_location = \"/mnt/pinterest-data/topics/12a3410ba3cf.geo/partition=0//*.json\"\n",
    "df_geo = spark.read.format(file_type) \\\n",
    "                 .option(\"inferSchema\", infer_schema) \\\n",
    "                 .load(geo_file_location)\n",
    "user_file_location = \"/mnt/pinterest-data/topics/12a3410ba3cf.user/partition=0//*.json\"\n",
    "df_user = spark.read.format(file_type) \\\n",
    "                  .option(\"inferSchema\", infer_schema) \\\n",
    "                  .load(user_file_location)"
   ]
  },
  {
   "cell_type": "code",
   "execution_count": 0,
   "metadata": {
    "application/vnd.databricks.v1+cell": {
     "cellMetadata": {
      "byteLimit": 2048000,
      "rowLimit": 10000
     },
     "inputWidgets": {},
     "nuid": "5cbbd977-1ee9-46ee-954c-53f462f221e0",
     "showTitle": false,
     "title": ""
    }
   },
   "outputs": [
    {
     "output_type": "display_data",
     "data": {
      "text/html": [
       "<style scoped>\n",
       "  .ansiout {\n",
       "    display: block;\n",
       "    unicode-bidi: embed;\n",
       "    white-space: pre-wrap;\n",
       "    word-wrap: break-word;\n",
       "    word-break: break-all;\n",
       "    font-family: \"Source Code Pro\", \"Menlo\", monospace;;\n",
       "    font-size: 13px;\n",
       "    color: #555;\n",
       "    margin-left: 4px;\n",
       "    line-height: 19px;\n",
       "  }\n",
       "</style>\n",
       "<div class=\"ansiout\">Out[147]: DataFrame[ind: int, unique_id: string, title: string, description: string, follower_count: int, poster_name: string, tag_list: string, is_image_or_video: string, image_src: string, save_location: string, category: string]</div>"
      ]
     },
     "metadata": {
      "application/vnd.databricks.v1+output": {
       "addedWidgets": {},
       "arguments": {},
       "data": "<div class=\"ansiout\">Out[147]: DataFrame[ind: int, unique_id: string, title: string, description: string, follower_count: int, poster_name: string, tag_list: string, is_image_or_video: string, image_src: string, save_location: string, category: string]</div>",
       "datasetInfos": [],
       "metadata": {},
       "removedWidgets": [],
       "type": "html"
      }
     },
     "output_type": "display_data"
    }
   ],
   "source": [
    "df_pin_cleaned = df_pin.withColumn(\"category\", when(df_pin[\"category\"].isNull(), None).otherwise(df_pin[\"category\"]))\n",
    "df_pin_cleaned = df_pin.withColumn(\"description\", when(df_pin[\"description\"].isNull(), None).otherwise(df_pin[\"description\"]))\n",
    "df_pin_cleaned = df_pin_cleaned.withColumn(\n",
    "    \"follower_count\",\n",
    "    when(col(\"follower_count\").endswith(\"k\"), \n",
    "         regexp_replace(col(\"follower_count\"), \"k\", \"\").cast(\"int\") * 1000)\n",
    "    .when(col(\"follower_count\").endswith(\"M\"), \n",
    "          regexp_replace(col(\"follower_count\"), \"M\", \"\").cast(\"int\") * 1000000)\n",
    "    .otherwise(col(\"follower_count\").cast(\"int\"))\n",
    ")\n",
    "df_pin_cleaned = df_pin_cleaned.withColumn(\n",
    "    \"follower_count\",\n",
    "    when(\n",
    "        df_pin_cleaned[\"follower_count\"].cast(\"int\").isNotNull(),\n",
    "        df_pin_cleaned[\"follower_count\"].cast(\"int\")\n",
    "    ).otherwise(None)\n",
    ")\n",
    "df_pin_cleaned.withColumn(\"downloaded\",col(\"downloaded\").cast(\"int\"))\n",
    "df_pin_cleaned = df_pin_cleaned.withColumn(\"save_location\",regexp_replace(col(\"save_location\"), \"^Local save in \", \"\"))\n",
    "df_pin_cleaned = df_pin_cleaned.withColumnRenamed(\"index\", \"ind\")\n",
    "desired_column_order = [\"ind\", \"unique_id\", \"title\", \"description\", \"follower_count\", \"poster_name\", \"tag_list\", \"is_image_or_video\", \"image_src\", \"save_location\", \"category\"]\n",
    "df_pin_cleaned = df_pin_cleaned.select(desired_column_order)\n",
    "df_pin_cleaned.withColumn(\"ind\",col(\"ind\").cast(\"int\"))\n"
   ]
  },
  {
   "cell_type": "code",
   "execution_count": 0,
   "metadata": {
    "application/vnd.databricks.v1+cell": {
     "cellMetadata": {
      "byteLimit": 2048000,
      "rowLimit": 10000
     },
     "inputWidgets": {},
     "nuid": "70a1cd2a-241e-44e5-bae6-bb390cba24d2",
     "showTitle": false,
     "title": ""
    }
   },
   "outputs": [
    {
     "output_type": "display_data",
     "data": {
      "text/html": [
       "<style scoped>\n",
       "  .ansiout {\n",
       "    display: block;\n",
       "    unicode-bidi: embed;\n",
       "    white-space: pre-wrap;\n",
       "    word-wrap: break-word;\n",
       "    word-break: break-all;\n",
       "    font-family: \"Source Code Pro\", \"Menlo\", monospace;;\n",
       "    font-size: 13px;\n",
       "    color: #555;\n",
       "    margin-left: 4px;\n",
       "    line-height: 19px;\n",
       "  }\n",
       "</style>\n",
       "<div class=\"ansiout\"></div>"
      ]
     },
     "metadata": {
      "application/vnd.databricks.v1+output": {
       "addedWidgets": {},
       "arguments": {},
       "data": "<div class=\"ansiout\"></div>",
       "datasetInfos": [],
       "metadata": {},
       "removedWidgets": [],
       "type": "html"
      }
     },
     "output_type": "display_data"
    }
   ],
   "source": [
    "df_geo_cleaned = df_geo.withColumn(\"coordinates\", array(col(\"latitude\"), col(\"longitude\")))\n",
    "df_geo_cleaned = df_geo_cleaned.drop(\"latitude\", \"longitude\")\n",
    "df_geo_cleaned = df_geo_cleaned.withColumn(\"timestamp\", to_timestamp(col(\"timestamp\")))\n",
    "df_geo_cleaned = df_geo_cleaned.select(\"ind\", \"country\", \"coordinates\", \"timestamp\")"
   ]
  },
  {
   "cell_type": "code",
   "execution_count": 0,
   "metadata": {
    "application/vnd.databricks.v1+cell": {
     "cellMetadata": {
      "byteLimit": 2048000,
      "rowLimit": 10000
     },
     "inputWidgets": {},
     "nuid": "5d2a1dad-232d-4c9a-9c64-ece1ebe4ec49",
     "showTitle": false,
     "title": ""
    }
   },
   "outputs": [
    {
     "output_type": "display_data",
     "data": {
      "text/html": [
       "<style scoped>\n",
       "  .ansiout {\n",
       "    display: block;\n",
       "    unicode-bidi: embed;\n",
       "    white-space: pre-wrap;\n",
       "    word-wrap: break-word;\n",
       "    word-break: break-all;\n",
       "    font-family: \"Source Code Pro\", \"Menlo\", monospace;;\n",
       "    font-size: 13px;\n",
       "    color: #555;\n",
       "    margin-left: 4px;\n",
       "    line-height: 19px;\n",
       "  }\n",
       "</style>\n",
       "<div class=\"ansiout\"></div>"
      ]
     },
     "metadata": {
      "application/vnd.databricks.v1+output": {
       "addedWidgets": {},
       "arguments": {},
       "data": "<div class=\"ansiout\"></div>",
       "datasetInfos": [],
       "metadata": {},
       "removedWidgets": [],
       "type": "html"
      }
     },
     "output_type": "display_data"
    }
   ],
   "source": [
    "df_user_cleaned = df_user.withColumn(\"user_name\", concat_ws(\" \", col(\"first_name\"), col(\"last_name\")))\n",
    "df_user_cleaned = df_user_cleaned.drop(\"first_name\", \"last_name\")\n",
    "df_user_cleaned = df_user_cleaned.withColumn(\"date_joined\", to_timestamp(col(\"date_joined\"), \"yyyy-MM-dd'T'HH:mm:ss\"))\n",
    "df_user_cleaned = df_user_cleaned.select(\"ind\", \"user_name\", \"age\", \"date_joined\")"
   ]
  },
  {
   "cell_type": "code",
   "execution_count": 0,
   "metadata": {
    "application/vnd.databricks.v1+cell": {
     "cellMetadata": {
      "byteLimit": 2048000,
      "rowLimit": 10000
     },
     "inputWidgets": {},
     "nuid": "ce3fc01a-35ea-4c79-af31-6060de7ca4bd",
     "showTitle": false,
     "title": ""
    }
   },
   "outputs": [
    {
     "output_type": "display_data",
     "data": {
      "text/html": [
       "<style scoped>\n",
       "  .table-result-container {\n",
       "    max-height: 300px;\n",
       "    overflow: auto;\n",
       "  }\n",
       "  table, th, td {\n",
       "    border: 1px solid black;\n",
       "    border-collapse: collapse;\n",
       "  }\n",
       "  th, td {\n",
       "    padding: 5px;\n",
       "  }\n",
       "  th {\n",
       "    text-align: left;\n",
       "  }\n",
       "</style><div class='table-result-container'><table class='table-result'><thead style='background-color: white'><tr><th>country</th><th>category</th><th>category_count</th></tr></thead><tbody><tr><td>Afghanistan</td><td>education</td><td>24</td></tr><tr><td>Albania</td><td>art</td><td>38</td></tr><tr><td>Algeria</td><td>quotes</td><td>50</td></tr><tr><td>American Samoa</td><td>tattoos</td><td>16</td></tr><tr><td>Andorra</td><td>tattoos</td><td>11</td></tr><tr><td>Angola</td><td>education</td><td>4</td></tr><tr><td>Anguilla</td><td>diy-and-crafts</td><td>9</td></tr><tr><td>Antarctica (the territory South of 60 deg S)</td><td>tattoos</td><td>10</td></tr><tr><td>Antigua and Barbuda</td><td>art</td><td>7</td></tr><tr><td>Argentina</td><td>tattoos</td><td>19</td></tr><tr><td>Armenia</td><td>art</td><td>8</td></tr><tr><td>Aruba</td><td>tattoos</td><td>22</td></tr><tr><td>Australia</td><td>christmas</td><td>7</td></tr><tr><td>Austria</td><td>tattoos</td><td>8</td></tr><tr><td>Azerbaijan</td><td>finance</td><td>12</td></tr><tr><td>Bahamas</td><td>art</td><td>13</td></tr><tr><td>Bahrain</td><td>travel</td><td>5</td></tr><tr><td>Bangladesh</td><td>christmas</td><td>13</td></tr><tr><td>Barbados</td><td>education</td><td>5</td></tr><tr><td>Belarus</td><td>event-planning</td><td>2</td></tr><tr><td>Belgium</td><td>diy-and-crafts</td><td>5</td></tr><tr><td>Belize</td><td>diy-and-crafts</td><td>10</td></tr><tr><td>Benin</td><td>finance</td><td>2</td></tr><tr><td>Bermuda</td><td>christmas</td><td>7</td></tr><tr><td>Bhutan</td><td>diy-and-crafts</td><td>3</td></tr><tr><td>Bolivia</td><td>diy-and-crafts</td><td>9</td></tr><tr><td>Bosnia and Herzegovina</td><td>education</td><td>4</td></tr><tr><td>Botswana</td><td>tattoos</td><td>10</td></tr><tr><td>Bouvet Island (Bouvetoya)</td><td>diy-and-crafts</td><td>6</td></tr><tr><td>Brazil</td><td>finance</td><td>2</td></tr><tr><td>British Indian Ocean Territory (Chagos Archipelago)</td><td>mens-fashion</td><td>2</td></tr><tr><td>British Virgin Islands</td><td>event-planning</td><td>9</td></tr><tr><td>Brunei Darussalam</td><td>event-planning</td><td>3</td></tr><tr><td>Bulgaria</td><td>christmas</td><td>14</td></tr><tr><td>Burkina Faso</td><td>quotes</td><td>10</td></tr><tr><td>Burundi</td><td>mens-fashion</td><td>5</td></tr><tr><td>Cambodia</td><td>vehicles</td><td>9</td></tr><tr><td>Cameroon</td><td>art</td><td>5</td></tr><tr><td>Canada</td><td>travel</td><td>2</td></tr><tr><td>Cape Verde</td><td>education</td><td>9</td></tr><tr><td>Cayman Islands</td><td>travel</td><td>1</td></tr><tr><td>Central African Republic</td><td>education</td><td>4</td></tr><tr><td>Chad</td><td>diy-and-crafts</td><td>5</td></tr><tr><td>Chile</td><td>travel</td><td>2</td></tr><tr><td>China</td><td>finance</td><td>1</td></tr><tr><td>Christmas Island</td><td>travel</td><td>5</td></tr><tr><td>Cocos (Keeling) Islands</td><td>event-planning</td><td>2</td></tr><tr><td>Colombia</td><td>home-decor</td><td>4</td></tr><tr><td>Comoros</td><td>christmas</td><td>2</td></tr><tr><td>Congo</td><td>art</td><td>6</td></tr><tr><td>Cook Islands</td><td>diy-and-crafts</td><td>1</td></tr><tr><td>Costa Rica</td><td>christmas</td><td>5</td></tr><tr><td>Cote d'Ivoire</td><td>travel</td><td>5</td></tr><tr><td>Croatia</td><td>finance</td><td>4</td></tr><tr><td>Cuba</td><td>diy-and-crafts</td><td>2</td></tr><tr><td>Cyprus</td><td>quotes</td><td>4</td></tr><tr><td>Czech Republic</td><td>travel</td><td>3</td></tr><tr><td>Denmark</td><td>beauty</td><td>4</td></tr><tr><td>Djibouti</td><td>diy-and-crafts</td><td>3</td></tr><tr><td>Dominica</td><td>event-planning</td><td>2</td></tr><tr><td>Dominican Republic</td><td>home-decor</td><td>10</td></tr><tr><td>Ecuador</td><td>mens-fashion</td><td>2</td></tr><tr><td>Egypt</td><td>finance</td><td>5</td></tr><tr><td>El Salvador</td><td>beauty</td><td>1</td></tr><tr><td>Equatorial Guinea</td><td>mens-fashion</td><td>1</td></tr><tr><td>Eritrea</td><td>diy-and-crafts</td><td>1</td></tr><tr><td>Estonia</td><td>vehicles</td><td>2</td></tr><tr><td>Ethiopia</td><td>art</td><td>3</td></tr><tr><td>Falkland Islands (Malvinas)</td><td>event-planning</td><td>5</td></tr><tr><td>Faroe Islands</td><td>event-planning</td><td>10</td></tr><tr><td>Fiji</td><td>mens-fashion</td><td>2</td></tr><tr><td>Finland</td><td>finance</td><td>5</td></tr><tr><td>France</td><td>diy-and-crafts</td><td>2</td></tr><tr><td>French Guiana</td><td>diy-and-crafts</td><td>1</td></tr><tr><td>French Polynesia</td><td>diy-and-crafts</td><td>9</td></tr><tr><td>French Southern Territories</td><td>finance</td><td>4</td></tr><tr><td>Gabon</td><td>travel</td><td>3</td></tr><tr><td>Gambia</td><td>travel</td><td>1</td></tr><tr><td>Georgia</td><td>education</td><td>11</td></tr><tr><td>Germany</td><td>event-planning</td><td>2</td></tr><tr><td>Ghana</td><td>art</td><td>5</td></tr><tr><td>Gibraltar</td><td>mens-fashion</td><td>2</td></tr><tr><td>Greece</td><td>mens-fashion</td><td>6</td></tr><tr><td>Greenland</td><td>christmas</td><td>1</td></tr><tr><td>Grenada</td><td>vehicles</td><td>4</td></tr><tr><td>Guadeloupe</td><td>christmas</td><td>6</td></tr><tr><td>Guam</td><td>travel</td><td>1</td></tr><tr><td>Guatemala</td><td>finance</td><td>1</td></tr><tr><td>Guernsey</td><td>tattoos</td><td>2</td></tr><tr><td>Guinea</td><td>finance</td><td>4</td></tr><tr><td>Guinea-Bissau</td><td>vehicles</td><td>4</td></tr><tr><td>Guyana</td><td>home-decor</td><td>1</td></tr><tr><td>Haiti</td><td>christmas</td><td>1</td></tr><tr><td>Heard Island and McDonald Islands</td><td>mens-fashion</td><td>2</td></tr><tr><td>Holy See (Vatican City State)</td><td>event-planning</td><td>1</td></tr><tr><td>Honduras</td><td>event-planning</td><td>2</td></tr><tr><td>Hong Kong</td><td>home-decor</td><td>2</td></tr><tr><td>Hungary</td><td>vehicles</td><td>3</td></tr><tr><td>Iceland</td><td>tattoos</td><td>1</td></tr><tr><td>India</td><td>diy-and-crafts</td><td>4</td></tr><tr><td>Indonesia</td><td>finance</td><td>7</td></tr><tr><td>Iran</td><td>christmas</td><td>2</td></tr><tr><td>Iraq</td><td>christmas</td><td>1</td></tr><tr><td>Ireland</td><td>home-decor</td><td>1</td></tr><tr><td>Isle of Man</td><td>art</td><td>2</td></tr><tr><td>Israel</td><td>finance</td><td>4</td></tr><tr><td>Italy</td><td>beauty</td><td>1</td></tr><tr><td>Jamaica</td><td>education</td><td>4</td></tr><tr><td>Japan</td><td>art</td><td>2</td></tr><tr><td>Jersey</td><td>mens-fashion</td><td>1</td></tr><tr><td>Jordan</td><td>vehicles</td><td>1</td></tr><tr><td>Kazakhstan</td><td>christmas</td><td>4</td></tr><tr><td>Kenya</td><td>diy-and-crafts</td><td>5</td></tr><tr><td>Kiribati</td><td>beauty</td><td>2</td></tr><tr><td>Korea</td><td>travel</td><td>5</td></tr><tr><td>Kuwait</td><td>christmas</td><td>2</td></tr><tr><td>Kyrgyz Republic</td><td>education</td><td>1</td></tr><tr><td>Lao People's Democratic Republic</td><td>beauty</td><td>1</td></tr><tr><td>Latvia</td><td>mens-fashion</td><td>4</td></tr><tr><td>Lebanon</td><td>mens-fashion</td><td>4</td></tr><tr><td>Lesotho</td><td>art</td><td>14</td></tr><tr><td>Liberia</td><td>christmas</td><td>1</td></tr><tr><td>Libyan Arab Jamahiriya</td><td>christmas</td><td>2</td></tr><tr><td>Liechtenstein</td><td>quotes</td><td>4</td></tr><tr><td>Lithuania</td><td>education</td><td>4</td></tr><tr><td>Luxembourg</td><td>education</td><td>2</td></tr><tr><td>Macao</td><td>vehicles</td><td>4</td></tr><tr><td>Macedonia</td><td>tattoos</td><td>1</td></tr><tr><td>Madagascar</td><td>finance</td><td>1</td></tr><tr><td>Malawi</td><td>travel</td><td>2</td></tr><tr><td>Maldives</td><td>finance</td><td>2</td></tr><tr><td>Mali</td><td>mens-fashion</td><td>1</td></tr><tr><td>Malta</td><td>beauty</td><td>4</td></tr><tr><td>Marshall Islands</td><td>vehicles</td><td>1</td></tr><tr><td>Martinique</td><td>quotes</td><td>1</td></tr><tr><td>Mauritania</td><td>education</td><td>1</td></tr><tr><td>Mauritius</td><td>quotes</td><td>1</td></tr><tr><td>Mayotte</td><td>diy-and-crafts</td><td>4</td></tr><tr><td>Mexico</td><td>vehicles</td><td>2</td></tr><tr><td>Micronesia</td><td>christmas</td><td>1</td></tr><tr><td>Moldova</td><td>beauty</td><td>2</td></tr><tr><td>Monaco</td><td>vehicles</td><td>4</td></tr><tr><td>Mongolia</td><td>mens-fashion</td><td>4</td></tr><tr><td>Montenegro</td><td>finance</td><td>1</td></tr><tr><td>Montserrat</td><td>vehicles</td><td>2</td></tr><tr><td>Morocco</td><td>quotes</td><td>10</td></tr><tr><td>Mozambique</td><td>home-decor</td><td>8</td></tr><tr><td>Myanmar</td><td>christmas</td><td>1</td></tr><tr><td>Namibia</td><td>vehicles</td><td>4</td></tr><tr><td>Nauru</td><td>beauty</td><td>6</td></tr><tr><td>Nepal</td><td>mens-fashion</td><td>1</td></tr><tr><td>Netherlands</td><td>home-decor</td><td>3</td></tr><tr><td>Netherlands Antilles</td><td>beauty</td><td>5</td></tr><tr><td>New Caledonia</td><td>travel</td><td>2</td></tr><tr><td>New Zealand</td><td>mens-fashion</td><td>2</td></tr><tr><td>Nicaragua</td><td>mens-fashion</td><td>2</td></tr><tr><td>Niger</td><td>education</td><td>1</td></tr><tr><td>Nigeria</td><td>education</td><td>5</td></tr><tr><td>Niue</td><td>quotes</td><td>2</td></tr><tr><td>Norfolk Island</td><td>mens-fashion</td><td>4</td></tr><tr><td>Norway</td><td>home-decor</td><td>1</td></tr><tr><td>Oman</td><td>finance</td><td>1</td></tr><tr><td>Pakistan</td><td>christmas</td><td>4</td></tr><tr><td>Palau</td><td>education</td><td>1</td></tr><tr><td>Palestinian Territory</td><td>vehicles</td><td>4</td></tr><tr><td>Panama</td><td>travel</td><td>4</td></tr><tr><td>Papua New Guinea</td><td>quotes</td><td>6</td></tr><tr><td>Paraguay</td><td>event-planning</td><td>1</td></tr><tr><td>Peru</td><td>art</td><td>4</td></tr><tr><td>Philippines</td><td>event-planning</td><td>1</td></tr><tr><td>Pitcairn Islands</td><td>diy-and-crafts</td><td>2</td></tr><tr><td>Poland</td><td>event-planning</td><td>1</td></tr><tr><td>Portugal</td><td>diy-and-crafts</td><td>1</td></tr><tr><td>Puerto Rico</td><td>christmas</td><td>2</td></tr><tr><td>Qatar</td><td>beauty</td><td>2</td></tr><tr><td>Reunion</td><td>home-decor</td><td>1</td></tr><tr><td>Romania</td><td>tattoos</td><td>4</td></tr><tr><td>Russian Federation</td><td>christmas</td><td>1</td></tr><tr><td>Rwanda</td><td>travel</td><td>4</td></tr><tr><td>Saint Barthelemy</td><td>beauty</td><td>1</td></tr><tr><td>Saint Helena</td><td>tattoos</td><td>1</td></tr><tr><td>Saint Kitts and Nevis</td><td>event-planning</td><td>1</td></tr><tr><td>Saint Lucia</td><td>education</td><td>1</td></tr><tr><td>Saint Martin</td><td>quotes</td><td>1</td></tr><tr><td>Saint Pierre and Miquelon</td><td>mens-fashion</td><td>6</td></tr><tr><td>Saint Vincent and the Grenadines</td><td>christmas</td><td>1</td></tr><tr><td>Samoa</td><td>finance</td><td>1</td></tr><tr><td>San Marino</td><td>home-decor</td><td>2</td></tr><tr><td>Sao Tome and Principe</td><td>finance</td><td>1</td></tr><tr><td>Saudi Arabia</td><td>finance</td><td>1</td></tr><tr><td>Senegal</td><td>beauty</td><td>4</td></tr><tr><td>Serbia</td><td>travel</td><td>1</td></tr><tr><td>Seychelles</td><td>beauty</td><td>2</td></tr><tr><td>Singapore</td><td>education</td><td>4</td></tr><tr><td>Slovakia (Slovak Republic)</td><td>vehicles</td><td>4</td></tr><tr><td>Slovenia</td><td>education</td><td>1</td></tr><tr><td>Solomon Islands</td><td>vehicles</td><td>4</td></tr><tr><td>Somalia</td><td>diy-and-crafts</td><td>1</td></tr><tr><td>South Africa</td><td>vehicles</td><td>1</td></tr><tr><td>South Georgia and the South Sandwich Islands</td><td>finance</td><td>1</td></tr><tr><td>Sri Lanka</td><td>finance</td><td>1</td></tr><tr><td>Sudan</td><td>education</td><td>1</td></tr><tr><td>Suriname</td><td>event-planning</td><td>1</td></tr><tr><td>Svalbard & Jan Mayen Islands</td><td>travel</td><td>4</td></tr><tr><td>Swaziland</td><td>quotes</td><td>1</td></tr><tr><td>Sweden</td><td>mens-fashion</td><td>4</td></tr><tr><td>Switzerland</td><td>quotes</td><td>1</td></tr><tr><td>Syrian Arab Republic</td><td>vehicles</td><td>1</td></tr><tr><td>Taiwan</td><td>christmas</td><td>1</td></tr><tr><td>Tajikistan</td><td>beauty</td><td>2</td></tr><tr><td>Tanzania</td><td>mens-fashion</td><td>1</td></tr><tr><td>Thailand</td><td>event-planning</td><td>1</td></tr><tr><td>Timor-Leste</td><td>travel</td><td>5</td></tr><tr><td>Togo</td><td>christmas</td><td>1</td></tr><tr><td>Tokelau</td><td>vehicles</td><td>4</td></tr><tr><td>Tonga</td><td>beauty</td><td>1</td></tr><tr><td>Trinidad and Tobago</td><td>christmas</td><td>1</td></tr><tr><td>Tunisia</td><td>travel</td><td>4</td></tr><tr><td>Turkey</td><td>education</td><td>2</td></tr><tr><td>Turkmenistan</td><td>diy-and-crafts</td><td>4</td></tr><tr><td>Turks and Caicos Islands</td><td>event-planning</td><td>4</td></tr><tr><td>Tuvalu</td><td>tattoos</td><td>1</td></tr><tr><td>Uganda</td><td>event-planning</td><td>3</td></tr><tr><td>Ukraine</td><td>finance</td><td>1</td></tr><tr><td>United Kingdom</td><td>quotes</td><td>1</td></tr><tr><td>United States Minor Outlying Islands</td><td>mens-fashion</td><td>1</td></tr><tr><td>United States Virgin Islands</td><td>quotes</td><td>2</td></tr><tr><td>United States of America</td><td>tattoos</td><td>1</td></tr><tr><td>Uzbekistan</td><td>quotes</td><td>1</td></tr><tr><td>Vanuatu</td><td>education</td><td>1</td></tr><tr><td>Venezuela</td><td>quotes</td><td>4</td></tr><tr><td>Vietnam</td><td>quotes</td><td>4</td></tr><tr><td>Wallis and Futuna</td><td>home-decor</td><td>4</td></tr><tr><td>Western Sahara</td><td>travel</td><td>4</td></tr><tr><td>Yemen</td><td>home-decor</td><td>1</td></tr><tr><td>Zambia</td><td>mens-fashion</td><td>1</td></tr></tbody></table></div>"
      ]
     },
     "metadata": {
      "application/vnd.databricks.v1+output": {
       "addedWidgets": {},
       "aggData": [],
       "aggError": "",
       "aggOverflow": false,
       "aggSchema": [],
       "aggSeriesLimitReached": false,
       "aggType": "",
       "arguments": {},
       "columnCustomDisplayInfos": {},
       "data": [
        [
         "Afghanistan",
         "education",
         24
        ],
        [
         "Albania",
         "art",
         38
        ],
        [
         "Algeria",
         "quotes",
         50
        ],
        [
         "American Samoa",
         "tattoos",
         16
        ],
        [
         "Andorra",
         "tattoos",
         11
        ],
        [
         "Angola",
         "education",
         4
        ],
        [
         "Anguilla",
         "diy-and-crafts",
         9
        ],
        [
         "Antarctica (the territory South of 60 deg S)",
         "tattoos",
         10
        ],
        [
         "Antigua and Barbuda",
         "art",
         7
        ],
        [
         "Argentina",
         "tattoos",
         19
        ],
        [
         "Armenia",
         "art",
         8
        ],
        [
         "Aruba",
         "tattoos",
         22
        ],
        [
         "Australia",
         "christmas",
         7
        ],
        [
         "Austria",
         "tattoos",
         8
        ],
        [
         "Azerbaijan",
         "finance",
         12
        ],
        [
         "Bahamas",
         "art",
         13
        ],
        [
         "Bahrain",
         "travel",
         5
        ],
        [
         "Bangladesh",
         "christmas",
         13
        ],
        [
         "Barbados",
         "education",
         5
        ],
        [
         "Belarus",
         "event-planning",
         2
        ],
        [
         "Belgium",
         "diy-and-crafts",
         5
        ],
        [
         "Belize",
         "diy-and-crafts",
         10
        ],
        [
         "Benin",
         "finance",
         2
        ],
        [
         "Bermuda",
         "christmas",
         7
        ],
        [
         "Bhutan",
         "diy-and-crafts",
         3
        ],
        [
         "Bolivia",
         "diy-and-crafts",
         9
        ],
        [
         "Bosnia and Herzegovina",
         "education",
         4
        ],
        [
         "Botswana",
         "tattoos",
         10
        ],
        [
         "Bouvet Island (Bouvetoya)",
         "diy-and-crafts",
         6
        ],
        [
         "Brazil",
         "finance",
         2
        ],
        [
         "British Indian Ocean Territory (Chagos Archipelago)",
         "mens-fashion",
         2
        ],
        [
         "British Virgin Islands",
         "event-planning",
         9
        ],
        [
         "Brunei Darussalam",
         "event-planning",
         3
        ],
        [
         "Bulgaria",
         "christmas",
         14
        ],
        [
         "Burkina Faso",
         "quotes",
         10
        ],
        [
         "Burundi",
         "mens-fashion",
         5
        ],
        [
         "Cambodia",
         "vehicles",
         9
        ],
        [
         "Cameroon",
         "art",
         5
        ],
        [
         "Canada",
         "travel",
         2
        ],
        [
         "Cape Verde",
         "education",
         9
        ],
        [
         "Cayman Islands",
         "travel",
         1
        ],
        [
         "Central African Republic",
         "education",
         4
        ],
        [
         "Chad",
         "diy-and-crafts",
         5
        ],
        [
         "Chile",
         "travel",
         2
        ],
        [
         "China",
         "finance",
         1
        ],
        [
         "Christmas Island",
         "travel",
         5
        ],
        [
         "Cocos (Keeling) Islands",
         "event-planning",
         2
        ],
        [
         "Colombia",
         "home-decor",
         4
        ],
        [
         "Comoros",
         "christmas",
         2
        ],
        [
         "Congo",
         "art",
         6
        ],
        [
         "Cook Islands",
         "diy-and-crafts",
         1
        ],
        [
         "Costa Rica",
         "christmas",
         5
        ],
        [
         "Cote d'Ivoire",
         "travel",
         5
        ],
        [
         "Croatia",
         "finance",
         4
        ],
        [
         "Cuba",
         "diy-and-crafts",
         2
        ],
        [
         "Cyprus",
         "quotes",
         4
        ],
        [
         "Czech Republic",
         "travel",
         3
        ],
        [
         "Denmark",
         "beauty",
         4
        ],
        [
         "Djibouti",
         "diy-and-crafts",
         3
        ],
        [
         "Dominica",
         "event-planning",
         2
        ],
        [
         "Dominican Republic",
         "home-decor",
         10
        ],
        [
         "Ecuador",
         "mens-fashion",
         2
        ],
        [
         "Egypt",
         "finance",
         5
        ],
        [
         "El Salvador",
         "beauty",
         1
        ],
        [
         "Equatorial Guinea",
         "mens-fashion",
         1
        ],
        [
         "Eritrea",
         "diy-and-crafts",
         1
        ],
        [
         "Estonia",
         "vehicles",
         2
        ],
        [
         "Ethiopia",
         "art",
         3
        ],
        [
         "Falkland Islands (Malvinas)",
         "event-planning",
         5
        ],
        [
         "Faroe Islands",
         "event-planning",
         10
        ],
        [
         "Fiji",
         "mens-fashion",
         2
        ],
        [
         "Finland",
         "finance",
         5
        ],
        [
         "France",
         "diy-and-crafts",
         2
        ],
        [
         "French Guiana",
         "diy-and-crafts",
         1
        ],
        [
         "French Polynesia",
         "diy-and-crafts",
         9
        ],
        [
         "French Southern Territories",
         "finance",
         4
        ],
        [
         "Gabon",
         "travel",
         3
        ],
        [
         "Gambia",
         "travel",
         1
        ],
        [
         "Georgia",
         "education",
         11
        ],
        [
         "Germany",
         "event-planning",
         2
        ],
        [
         "Ghana",
         "art",
         5
        ],
        [
         "Gibraltar",
         "mens-fashion",
         2
        ],
        [
         "Greece",
         "mens-fashion",
         6
        ],
        [
         "Greenland",
         "christmas",
         1
        ],
        [
         "Grenada",
         "vehicles",
         4
        ],
        [
         "Guadeloupe",
         "christmas",
         6
        ],
        [
         "Guam",
         "travel",
         1
        ],
        [
         "Guatemala",
         "finance",
         1
        ],
        [
         "Guernsey",
         "tattoos",
         2
        ],
        [
         "Guinea",
         "finance",
         4
        ],
        [
         "Guinea-Bissau",
         "vehicles",
         4
        ],
        [
         "Guyana",
         "home-decor",
         1
        ],
        [
         "Haiti",
         "christmas",
         1
        ],
        [
         "Heard Island and McDonald Islands",
         "mens-fashion",
         2
        ],
        [
         "Holy See (Vatican City State)",
         "event-planning",
         1
        ],
        [
         "Honduras",
         "event-planning",
         2
        ],
        [
         "Hong Kong",
         "home-decor",
         2
        ],
        [
         "Hungary",
         "vehicles",
         3
        ],
        [
         "Iceland",
         "tattoos",
         1
        ],
        [
         "India",
         "diy-and-crafts",
         4
        ],
        [
         "Indonesia",
         "finance",
         7
        ],
        [
         "Iran",
         "christmas",
         2
        ],
        [
         "Iraq",
         "christmas",
         1
        ],
        [
         "Ireland",
         "home-decor",
         1
        ],
        [
         "Isle of Man",
         "art",
         2
        ],
        [
         "Israel",
         "finance",
         4
        ],
        [
         "Italy",
         "beauty",
         1
        ],
        [
         "Jamaica",
         "education",
         4
        ],
        [
         "Japan",
         "art",
         2
        ],
        [
         "Jersey",
         "mens-fashion",
         1
        ],
        [
         "Jordan",
         "vehicles",
         1
        ],
        [
         "Kazakhstan",
         "christmas",
         4
        ],
        [
         "Kenya",
         "diy-and-crafts",
         5
        ],
        [
         "Kiribati",
         "beauty",
         2
        ],
        [
         "Korea",
         "travel",
         5
        ],
        [
         "Kuwait",
         "christmas",
         2
        ],
        [
         "Kyrgyz Republic",
         "education",
         1
        ],
        [
         "Lao People's Democratic Republic",
         "beauty",
         1
        ],
        [
         "Latvia",
         "mens-fashion",
         4
        ],
        [
         "Lebanon",
         "mens-fashion",
         4
        ],
        [
         "Lesotho",
         "art",
         14
        ],
        [
         "Liberia",
         "christmas",
         1
        ],
        [
         "Libyan Arab Jamahiriya",
         "christmas",
         2
        ],
        [
         "Liechtenstein",
         "quotes",
         4
        ],
        [
         "Lithuania",
         "education",
         4
        ],
        [
         "Luxembourg",
         "education",
         2
        ],
        [
         "Macao",
         "vehicles",
         4
        ],
        [
         "Macedonia",
         "tattoos",
         1
        ],
        [
         "Madagascar",
         "finance",
         1
        ],
        [
         "Malawi",
         "travel",
         2
        ],
        [
         "Maldives",
         "finance",
         2
        ],
        [
         "Mali",
         "mens-fashion",
         1
        ],
        [
         "Malta",
         "beauty",
         4
        ],
        [
         "Marshall Islands",
         "vehicles",
         1
        ],
        [
         "Martinique",
         "quotes",
         1
        ],
        [
         "Mauritania",
         "education",
         1
        ],
        [
         "Mauritius",
         "quotes",
         1
        ],
        [
         "Mayotte",
         "diy-and-crafts",
         4
        ],
        [
         "Mexico",
         "vehicles",
         2
        ],
        [
         "Micronesia",
         "christmas",
         1
        ],
        [
         "Moldova",
         "beauty",
         2
        ],
        [
         "Monaco",
         "vehicles",
         4
        ],
        [
         "Mongolia",
         "mens-fashion",
         4
        ],
        [
         "Montenegro",
         "finance",
         1
        ],
        [
         "Montserrat",
         "vehicles",
         2
        ],
        [
         "Morocco",
         "quotes",
         10
        ],
        [
         "Mozambique",
         "home-decor",
         8
        ],
        [
         "Myanmar",
         "christmas",
         1
        ],
        [
         "Namibia",
         "vehicles",
         4
        ],
        [
         "Nauru",
         "beauty",
         6
        ],
        [
         "Nepal",
         "mens-fashion",
         1
        ],
        [
         "Netherlands",
         "home-decor",
         3
        ],
        [
         "Netherlands Antilles",
         "beauty",
         5
        ],
        [
         "New Caledonia",
         "travel",
         2
        ],
        [
         "New Zealand",
         "mens-fashion",
         2
        ],
        [
         "Nicaragua",
         "mens-fashion",
         2
        ],
        [
         "Niger",
         "education",
         1
        ],
        [
         "Nigeria",
         "education",
         5
        ],
        [
         "Niue",
         "quotes",
         2
        ],
        [
         "Norfolk Island",
         "mens-fashion",
         4
        ],
        [
         "Norway",
         "home-decor",
         1
        ],
        [
         "Oman",
         "finance",
         1
        ],
        [
         "Pakistan",
         "christmas",
         4
        ],
        [
         "Palau",
         "education",
         1
        ],
        [
         "Palestinian Territory",
         "vehicles",
         4
        ],
        [
         "Panama",
         "travel",
         4
        ],
        [
         "Papua New Guinea",
         "quotes",
         6
        ],
        [
         "Paraguay",
         "event-planning",
         1
        ],
        [
         "Peru",
         "art",
         4
        ],
        [
         "Philippines",
         "event-planning",
         1
        ],
        [
         "Pitcairn Islands",
         "diy-and-crafts",
         2
        ],
        [
         "Poland",
         "event-planning",
         1
        ],
        [
         "Portugal",
         "diy-and-crafts",
         1
        ],
        [
         "Puerto Rico",
         "christmas",
         2
        ],
        [
         "Qatar",
         "beauty",
         2
        ],
        [
         "Reunion",
         "home-decor",
         1
        ],
        [
         "Romania",
         "tattoos",
         4
        ],
        [
         "Russian Federation",
         "christmas",
         1
        ],
        [
         "Rwanda",
         "travel",
         4
        ],
        [
         "Saint Barthelemy",
         "beauty",
         1
        ],
        [
         "Saint Helena",
         "tattoos",
         1
        ],
        [
         "Saint Kitts and Nevis",
         "event-planning",
         1
        ],
        [
         "Saint Lucia",
         "education",
         1
        ],
        [
         "Saint Martin",
         "quotes",
         1
        ],
        [
         "Saint Pierre and Miquelon",
         "mens-fashion",
         6
        ],
        [
         "Saint Vincent and the Grenadines",
         "christmas",
         1
        ],
        [
         "Samoa",
         "finance",
         1
        ],
        [
         "San Marino",
         "home-decor",
         2
        ],
        [
         "Sao Tome and Principe",
         "finance",
         1
        ],
        [
         "Saudi Arabia",
         "finance",
         1
        ],
        [
         "Senegal",
         "beauty",
         4
        ],
        [
         "Serbia",
         "travel",
         1
        ],
        [
         "Seychelles",
         "beauty",
         2
        ],
        [
         "Singapore",
         "education",
         4
        ],
        [
         "Slovakia (Slovak Republic)",
         "vehicles",
         4
        ],
        [
         "Slovenia",
         "education",
         1
        ],
        [
         "Solomon Islands",
         "vehicles",
         4
        ],
        [
         "Somalia",
         "diy-and-crafts",
         1
        ],
        [
         "South Africa",
         "vehicles",
         1
        ],
        [
         "South Georgia and the South Sandwich Islands",
         "finance",
         1
        ],
        [
         "Sri Lanka",
         "finance",
         1
        ],
        [
         "Sudan",
         "education",
         1
        ],
        [
         "Suriname",
         "event-planning",
         1
        ],
        [
         "Svalbard & Jan Mayen Islands",
         "travel",
         4
        ],
        [
         "Swaziland",
         "quotes",
         1
        ],
        [
         "Sweden",
         "mens-fashion",
         4
        ],
        [
         "Switzerland",
         "quotes",
         1
        ],
        [
         "Syrian Arab Republic",
         "vehicles",
         1
        ],
        [
         "Taiwan",
         "christmas",
         1
        ],
        [
         "Tajikistan",
         "beauty",
         2
        ],
        [
         "Tanzania",
         "mens-fashion",
         1
        ],
        [
         "Thailand",
         "event-planning",
         1
        ],
        [
         "Timor-Leste",
         "travel",
         5
        ],
        [
         "Togo",
         "christmas",
         1
        ],
        [
         "Tokelau",
         "vehicles",
         4
        ],
        [
         "Tonga",
         "beauty",
         1
        ],
        [
         "Trinidad and Tobago",
         "christmas",
         1
        ],
        [
         "Tunisia",
         "travel",
         4
        ],
        [
         "Turkey",
         "education",
         2
        ],
        [
         "Turkmenistan",
         "diy-and-crafts",
         4
        ],
        [
         "Turks and Caicos Islands",
         "event-planning",
         4
        ],
        [
         "Tuvalu",
         "tattoos",
         1
        ],
        [
         "Uganda",
         "event-planning",
         3
        ],
        [
         "Ukraine",
         "finance",
         1
        ],
        [
         "United Kingdom",
         "quotes",
         1
        ],
        [
         "United States Minor Outlying Islands",
         "mens-fashion",
         1
        ],
        [
         "United States Virgin Islands",
         "quotes",
         2
        ],
        [
         "United States of America",
         "tattoos",
         1
        ],
        [
         "Uzbekistan",
         "quotes",
         1
        ],
        [
         "Vanuatu",
         "education",
         1
        ],
        [
         "Venezuela",
         "quotes",
         4
        ],
        [
         "Vietnam",
         "quotes",
         4
        ],
        [
         "Wallis and Futuna",
         "home-decor",
         4
        ],
        [
         "Western Sahara",
         "travel",
         4
        ],
        [
         "Yemen",
         "home-decor",
         1
        ],
        [
         "Zambia",
         "mens-fashion",
         1
        ]
       ],
       "datasetInfos": [],
       "dbfsResultPath": null,
       "isJsonSchema": true,
       "metadata": {},
       "overflow": false,
       "plotOptions": {
        "customPlotOptions": {},
        "displayType": "table",
        "pivotAggregation": null,
        "pivotColumns": null,
        "xColumns": null,
        "yColumns": null
       },
       "removedWidgets": [],
       "schema": [
        {
         "metadata": "{}",
         "name": "country",
         "type": "\"string\""
        },
        {
         "metadata": "{}",
         "name": "category",
         "type": "\"string\""
        },
        {
         "metadata": "{}",
         "name": "category_count",
         "type": "\"long\""
        }
       ],
       "type": "table"
      }
     },
     "output_type": "display_data"
    }
   ],
   "source": [
    "# Find the most popular Pinterest category people post to based on their country\n",
    "df_pin_cleaned.createOrReplaceGlobalTempView(\"pin_df\")\n",
    "df_geo_cleaned.createOrReplaceGlobalTempView(\"geo_df\")\n",
    "df_user_cleaned.createOrReplaceGlobalTempView(\"user_df\")\n",
    "\n",
    "results_df = spark.sql(\"\"\"\n",
    "WITH ranked_categories AS (\n",
    "    SELECT\n",
    "        g.country,\n",
    "        p.category,\n",
    "        COUNT(*) AS category_count,\n",
    "        ROW_NUMBER() OVER (PARTITION BY g.country ORDER BY COUNT(*) DESC) AS rank\n",
    "    FROM\n",
    "        global_temp.geo_df g\n",
    "    JOIN\n",
    "        global_temp.pin_df p\n",
    "    ON\n",
    "        g.ind = p.ind\n",
    "    GROUP BY\n",
    "        g.country,\n",
    "        p.category\n",
    ")\n",
    "SELECT\n",
    "    country,\n",
    "    category,\n",
    "    category_count\n",
    "FROM\n",
    "    ranked_categories\n",
    "WHERE\n",
    "    rank = 1\n",
    "\"\"\")\n",
    "\n",
    "display(results_df)"
   ]
  },
  {
   "cell_type": "code",
   "execution_count": 0,
   "metadata": {
    "application/vnd.databricks.v1+cell": {
     "cellMetadata": {
      "byteLimit": 2048000,
      "rowLimit": 10000
     },
     "inputWidgets": {},
     "nuid": "dbda28b1-a115-4fb5-9a9c-10962d997bb5",
     "showTitle": false,
     "title": ""
    }
   },
   "outputs": [
    {
     "output_type": "display_data",
     "data": {
      "text/html": [
       "<style scoped>\n",
       "  .table-result-container {\n",
       "    max-height: 300px;\n",
       "    overflow: auto;\n",
       "  }\n",
       "  table, th, td {\n",
       "    border: 1px solid black;\n",
       "    border-collapse: collapse;\n",
       "  }\n",
       "  th, td {\n",
       "    padding: 5px;\n",
       "  }\n",
       "  th {\n",
       "    text-align: left;\n",
       "  }\n",
       "</style><div class='table-result-container'><table class='table-result'><thead style='background-color: white'><tr><th>post_year</th><th>category</th><th>category_count</th></tr></thead><tbody><tr><td>2018</td><td>art</td><td>43</td></tr><tr><td>2018</td><td>beauty</td><td>30</td></tr><tr><td>2018</td><td>christmas</td><td>47</td></tr><tr><td>2018</td><td>diy-and-crafts</td><td>50</td></tr><tr><td>2018</td><td>education</td><td>43</td></tr><tr><td>2018</td><td>event-planning</td><td>36</td></tr><tr><td>2018</td><td>finance</td><td>32</td></tr><tr><td>2018</td><td>home-decor</td><td>29</td></tr><tr><td>2018</td><td>mens-fashion</td><td>37</td></tr><tr><td>2018</td><td>quotes</td><td>46</td></tr><tr><td>2018</td><td>tattoos</td><td>34</td></tr><tr><td>2018</td><td>travel</td><td>46</td></tr><tr><td>2018</td><td>vehicles</td><td>32</td></tr><tr><td>2019</td><td>art</td><td>46</td></tr><tr><td>2019</td><td>beauty</td><td>21</td></tr><tr><td>2019</td><td>christmas</td><td>33</td></tr><tr><td>2019</td><td>diy-and-crafts</td><td>32</td></tr><tr><td>2019</td><td>education</td><td>36</td></tr><tr><td>2019</td><td>event-planning</td><td>28</td></tr><tr><td>2019</td><td>finance</td><td>27</td></tr><tr><td>2019</td><td>home-decor</td><td>32</td></tr><tr><td>2019</td><td>mens-fashion</td><td>28</td></tr><tr><td>2019</td><td>quotes</td><td>31</td></tr><tr><td>2019</td><td>tattoos</td><td>39</td></tr><tr><td>2019</td><td>travel</td><td>37</td></tr><tr><td>2019</td><td>vehicles</td><td>34</td></tr><tr><td>2020</td><td>art</td><td>52</td></tr><tr><td>2020</td><td>beauty</td><td>38</td></tr><tr><td>2020</td><td>christmas</td><td>41</td></tr><tr><td>2020</td><td>diy-and-crafts</td><td>31</td></tr><tr><td>2020</td><td>education</td><td>39</td></tr><tr><td>2020</td><td>event-planning</td><td>36</td></tr><tr><td>2020</td><td>finance</td><td>46</td></tr><tr><td>2020</td><td>home-decor</td><td>41</td></tr><tr><td>2020</td><td>mens-fashion</td><td>51</td></tr><tr><td>2020</td><td>quotes</td><td>35</td></tr><tr><td>2020</td><td>tattoos</td><td>32</td></tr><tr><td>2020</td><td>travel</td><td>41</td></tr><tr><td>2020</td><td>vehicles</td><td>26</td></tr><tr><td>2021</td><td>art</td><td>50</td></tr><tr><td>2021</td><td>beauty</td><td>21</td></tr><tr><td>2021</td><td>christmas</td><td>41</td></tr><tr><td>2021</td><td>diy-and-crafts</td><td>36</td></tr><tr><td>2021</td><td>education</td><td>54</td></tr><tr><td>2021</td><td>event-planning</td><td>32</td></tr><tr><td>2021</td><td>finance</td><td>40</td></tr><tr><td>2021</td><td>home-decor</td><td>24</td></tr><tr><td>2021</td><td>mens-fashion</td><td>38</td></tr><tr><td>2021</td><td>quotes</td><td>48</td></tr><tr><td>2021</td><td>tattoos</td><td>36</td></tr><tr><td>2021</td><td>travel</td><td>35</td></tr><tr><td>2021</td><td>vehicles</td><td>41</td></tr><tr><td>2022</td><td>art</td><td>35</td></tr><tr><td>2022</td><td>beauty</td><td>37</td></tr><tr><td>2022</td><td>christmas</td><td>52</td></tr><tr><td>2022</td><td>diy-and-crafts</td><td>32</td></tr><tr><td>2022</td><td>education</td><td>30</td></tr><tr><td>2022</td><td>event-planning</td><td>27</td></tr><tr><td>2022</td><td>finance</td><td>36</td></tr><tr><td>2022</td><td>home-decor</td><td>19</td></tr><tr><td>2022</td><td>mens-fashion</td><td>24</td></tr><tr><td>2022</td><td>quotes</td><td>46</td></tr><tr><td>2022</td><td>tattoos</td><td>34</td></tr><tr><td>2022</td><td>travel</td><td>38</td></tr><tr><td>2022</td><td>vehicles</td><td>23</td></tr></tbody></table></div>"
      ]
     },
     "metadata": {
      "application/vnd.databricks.v1+output": {
       "addedWidgets": {},
       "aggData": [],
       "aggError": "",
       "aggOverflow": false,
       "aggSchema": [],
       "aggSeriesLimitReached": false,
       "aggType": "",
       "arguments": {},
       "columnCustomDisplayInfos": {},
       "data": [
        [
         2018,
         "art",
         43
        ],
        [
         2018,
         "beauty",
         30
        ],
        [
         2018,
         "christmas",
         47
        ],
        [
         2018,
         "diy-and-crafts",
         50
        ],
        [
         2018,
         "education",
         43
        ],
        [
         2018,
         "event-planning",
         36
        ],
        [
         2018,
         "finance",
         32
        ],
        [
         2018,
         "home-decor",
         29
        ],
        [
         2018,
         "mens-fashion",
         37
        ],
        [
         2018,
         "quotes",
         46
        ],
        [
         2018,
         "tattoos",
         34
        ],
        [
         2018,
         "travel",
         46
        ],
        [
         2018,
         "vehicles",
         32
        ],
        [
         2019,
         "art",
         46
        ],
        [
         2019,
         "beauty",
         21
        ],
        [
         2019,
         "christmas",
         33
        ],
        [
         2019,
         "diy-and-crafts",
         32
        ],
        [
         2019,
         "education",
         36
        ],
        [
         2019,
         "event-planning",
         28
        ],
        [
         2019,
         "finance",
         27
        ],
        [
         2019,
         "home-decor",
         32
        ],
        [
         2019,
         "mens-fashion",
         28
        ],
        [
         2019,
         "quotes",
         31
        ],
        [
         2019,
         "tattoos",
         39
        ],
        [
         2019,
         "travel",
         37
        ],
        [
         2019,
         "vehicles",
         34
        ],
        [
         2020,
         "art",
         52
        ],
        [
         2020,
         "beauty",
         38
        ],
        [
         2020,
         "christmas",
         41
        ],
        [
         2020,
         "diy-and-crafts",
         31
        ],
        [
         2020,
         "education",
         39
        ],
        [
         2020,
         "event-planning",
         36
        ],
        [
         2020,
         "finance",
         46
        ],
        [
         2020,
         "home-decor",
         41
        ],
        [
         2020,
         "mens-fashion",
         51
        ],
        [
         2020,
         "quotes",
         35
        ],
        [
         2020,
         "tattoos",
         32
        ],
        [
         2020,
         "travel",
         41
        ],
        [
         2020,
         "vehicles",
         26
        ],
        [
         2021,
         "art",
         50
        ],
        [
         2021,
         "beauty",
         21
        ],
        [
         2021,
         "christmas",
         41
        ],
        [
         2021,
         "diy-and-crafts",
         36
        ],
        [
         2021,
         "education",
         54
        ],
        [
         2021,
         "event-planning",
         32
        ],
        [
         2021,
         "finance",
         40
        ],
        [
         2021,
         "home-decor",
         24
        ],
        [
         2021,
         "mens-fashion",
         38
        ],
        [
         2021,
         "quotes",
         48
        ],
        [
         2021,
         "tattoos",
         36
        ],
        [
         2021,
         "travel",
         35
        ],
        [
         2021,
         "vehicles",
         41
        ],
        [
         2022,
         "art",
         35
        ],
        [
         2022,
         "beauty",
         37
        ],
        [
         2022,
         "christmas",
         52
        ],
        [
         2022,
         "diy-and-crafts",
         32
        ],
        [
         2022,
         "education",
         30
        ],
        [
         2022,
         "event-planning",
         27
        ],
        [
         2022,
         "finance",
         36
        ],
        [
         2022,
         "home-decor",
         19
        ],
        [
         2022,
         "mens-fashion",
         24
        ],
        [
         2022,
         "quotes",
         46
        ],
        [
         2022,
         "tattoos",
         34
        ],
        [
         2022,
         "travel",
         38
        ],
        [
         2022,
         "vehicles",
         23
        ]
       ],
       "datasetInfos": [],
       "dbfsResultPath": null,
       "isJsonSchema": true,
       "metadata": {},
       "overflow": false,
       "plotOptions": {
        "customPlotOptions": {},
        "displayType": "table",
        "pivotAggregation": null,
        "pivotColumns": null,
        "xColumns": null,
        "yColumns": null
       },
       "removedWidgets": [],
       "schema": [
        {
         "metadata": "{}",
         "name": "post_year",
         "type": "\"integer\""
        },
        {
         "metadata": "{}",
         "name": "category",
         "type": "\"string\""
        },
        {
         "metadata": "{}",
         "name": "category_count",
         "type": "\"long\""
        }
       ],
       "type": "table"
      }
     },
     "output_type": "display_data"
    }
   ],
   "source": [
    "# Find how many posts each category had between 2018 and 2022\n",
    "df_pin_cleaned.createOrReplaceGlobalTempView(\"pin_df\")\n",
    "df_geo_cleaned.createOrReplaceGlobalTempView(\"geo_df\")\n",
    "\n",
    "year_result = spark.sql(\"\"\"\n",
    "SELECT\n",
    "    YEAR(g.timestamp) AS post_year,\n",
    "    p.category,\n",
    "    COUNT(*) AS category_count\n",
    "FROM\n",
    "    global_temp.geo_df g\n",
    "JOIN\n",
    "    global_temp.pin_df p\n",
    "ON\n",
    "    g.ind = p.ind\n",
    "WHERE\n",
    "    YEAR(g.timestamp) BETWEEN 2018 AND 2022\n",
    "GROUP BY\n",
    "    post_year,\n",
    "    p.category\n",
    "ORDER BY\n",
    "    post_year,\n",
    "    p.category\n",
    "\"\"\")\n",
    "\n",
    "display(year_result)"
   ]
  },
  {
   "cell_type": "code",
   "execution_count": 0,
   "metadata": {
    "application/vnd.databricks.v1+cell": {
     "cellMetadata": {
      "byteLimit": 2048000,
      "rowLimit": 10000
     },
     "inputWidgets": {},
     "nuid": "15070a45-9659-4efb-b175-3d2adc3f8207",
     "showTitle": false,
     "title": ""
    }
   },
   "outputs": [
    {
     "output_type": "display_data",
     "data": {
      "text/html": [
       "<style scoped>\n",
       "  .table-result-container {\n",
       "    max-height: 300px;\n",
       "    overflow: auto;\n",
       "  }\n",
       "  table, th, td {\n",
       "    border: 1px solid black;\n",
       "    border-collapse: collapse;\n",
       "  }\n",
       "  th, td {\n",
       "    padding: 5px;\n",
       "  }\n",
       "  th {\n",
       "    text-align: left;\n",
       "  }\n",
       "</style><div class='table-result-container'><table class='table-result'><thead style='background-color: white'><tr><th>country</th><th>poster_name</th><th>follower_count</th></tr></thead><tbody><tr><td>Afghanistan</td><td>9GAG</td><td>3000000</td></tr><tr><td>Albania</td><td>The Minds Journal</td><td>5000000</td></tr><tr><td>Algeria</td><td>Apartment Therapy</td><td>5000000</td></tr><tr><td>American Samoa</td><td>Mamas Uncut</td><td>8000000</td></tr><tr><td>Andorra</td><td>Teachers Pay Teachers</td><td>1000000</td></tr><tr><td>Angola</td><td>Tastemade</td><td>8000000</td></tr><tr><td>Anguilla</td><td>We Heart It</td><td>15000000</td></tr><tr><td>Antarctica (the territory South of 60 deg S)</td><td>Refinery29</td><td>1000000</td></tr><tr><td>Antigua and Barbuda</td><td>Country Living Magazine</td><td>1000000</td></tr><tr><td>Argentina</td><td>Cheezburger</td><td>2000000</td></tr><tr><td>Armenia</td><td>Michelle {CraftyMorning.com}</td><td>892000</td></tr><tr><td>Aruba</td><td>GQ Magazine</td><td>874000</td></tr><tr><td>Australia</td><td>Mujer de 10 </td><td>2000000</td></tr><tr><td>Austria</td><td>Allwomenstalk - girl rules </td><td>813000</td></tr><tr><td>Azerbaijan</td><td>Style Me Pretty</td><td>6000000</td></tr><tr><td>Bahamas</td><td>Handmade Charlotte</td><td>948000</td></tr><tr><td>Bahrain</td><td>Rainy Day Mum</td><td>337000</td></tr><tr><td>Bangladesh</td><td>Better Homes and Gardens</td><td>4000000</td></tr><tr><td>Barbados</td><td>The Creativity Exchange</td><td>410000</td></tr><tr><td>Belarus</td><td>Prudent Penny Pincher - Home Decor, Organization, Crafts, Recipes</td><td>648000</td></tr><tr><td>Belgium</td><td>This Old House</td><td>944000</td></tr><tr><td>Belize</td><td>Easy Kids Crafts & Activities | Preschool & Kindergarten Ideas</td><td>267000</td></tr><tr><td>Benin</td><td>Decoist.com</td><td>432000</td></tr><tr><td>Bermuda</td><td>3 Boys and a Dog</td><td>83000</td></tr><tr><td>Bhutan</td><td>Esquire Magazine</td><td>130000</td></tr><tr><td>Bolivia</td><td>A Beautiful Mess</td><td>595000</td></tr><tr><td>Bosnia and Herzegovina</td><td>Stylesatlife</td><td>388000</td></tr><tr><td>Botswana</td><td>OkChicas</td><td>3000000</td></tr><tr><td>Bouvet Island (Bouvetoya)</td><td>POPSUGAR</td><td>5000000</td></tr><tr><td>Brazil</td><td>Sanctuary Home Decor</td><td>42000</td></tr><tr><td>British Indian Ocean Territory (Chagos Archipelago)</td><td>Design Rulz</td><td>248000</td></tr><tr><td>British Virgin Islands</td><td>The WHOot</td><td>1000000</td></tr><tr><td>Brunei Darussalam</td><td>Kids Craft Room</td><td>277000</td></tr><tr><td>Bulgaria</td><td>Half Baked Harvest</td><td>912000</td></tr><tr><td>Burkina Faso</td><td>Behance</td><td>6000000</td></tr><tr><td>Burundi</td><td>Macho Moda</td><td>620000</td></tr><tr><td>Cambodia</td><td>Catch My Party</td><td>2000000</td></tr><tr><td>Cameroon</td><td>The Blonde Abroad</td><td>123000</td></tr><tr><td>Canada</td><td>Giorgenti New York</td><td>258000</td></tr><tr><td>Cape Verde</td><td>Sand and Sisal</td><td>178000</td></tr><tr><td>Cayman Islands</td><td>InStyle</td><td>1000000</td></tr><tr><td>Central African Republic</td><td>PureWow</td><td>868000</td></tr><tr><td>Chad</td><td>Glued To My Crafts</td><td>226000</td></tr><tr><td>Chile</td><td>Local Adventurer - Las Vegas + Worldwide Travel Blog</td><td>89000</td></tr><tr><td>China</td><td>Empowered Sustenance</td><td>127000</td></tr><tr><td>Christmas Island</td><td>Instructables</td><td>3000000</td></tr><tr><td>Cocos (Keeling) Islands</td><td>How Does She</td><td>709000</td></tr><tr><td>Colombia</td><td>DIY Magazine</td><td>466000</td></tr><tr><td>Comoros</td><td>Ruffled</td><td>4000000</td></tr><tr><td>Congo</td><td>Virginia | Fynes Designs : Home Decor, Easy DIY’s, Lifestyle</td><td>410000</td></tr><tr><td>Cook Islands</td><td>Fun Loving Families: Crafts, Games, and Activities for Kids</td><td>31000</td></tr><tr><td>Costa Rica</td><td>Martha Stewart Living</td><td>2000000</td></tr><tr><td>Cote d'Ivoire</td><td>Mom Junction</td><td>565000</td></tr><tr><td>Croatia</td><td>Glowsly</td><td>157000</td></tr><tr><td>Cuba</td><td>Cuded Art & Design</td><td>1000000</td></tr><tr><td>Cyprus</td><td>Porchdotcom</td><td>117000</td></tr><tr><td>Czech Republic</td><td>Tatertots and Jello .com</td><td>398000</td></tr><tr><td>Denmark</td><td>A Life Adjacent</td><td>36000</td></tr><tr><td>Djibouti</td><td>El Hombre</td><td>307000</td></tr><tr><td>Dominica</td><td>Monique - Living Life and Learning</td><td>67000</td></tr><tr><td>Dominican Republic</td><td>Wonder Forest</td><td>104000</td></tr><tr><td>Ecuador</td><td>LABONNI</td><td>84000</td></tr><tr><td>Egypt</td><td>Allure</td><td>346000</td></tr><tr><td>El Salvador</td><td>Power of Positivity</td><td>221000</td></tr><tr><td>Equatorial Guinea</td><td>Whisper Wanderlust * Travel Blog</td><td>10000</td></tr><tr><td>Eritrea</td><td>Core77</td><td>105000</td></tr><tr><td>Estonia</td><td>Morgan |  Modernly Morgan</td><td>13000</td></tr><tr><td>Ethiopia</td><td>Refresh Restyle Debbie DIY Home Decor, Chalk Couture Designer</td><td>253000</td></tr><tr><td>Falkland Islands (Malvinas)</td><td>A Blissful Nest</td><td>113000</td></tr><tr><td>Faroe Islands</td><td>Veterans United Home Loans</td><td>11000</td></tr><tr><td>Fiji</td><td>Teach Create Motivate</td><td>41000</td></tr><tr><td>Finland</td><td>Amee</td><td>79000</td></tr><tr><td>France</td><td>Hello Lovely</td><td>115000</td></tr><tr><td>French Guiana</td><td>Sweet Red Poppy Free Sewing Patterns, Cut Files & Craft Tutorials</td><td>241000</td></tr><tr><td>French Polynesia</td><td>EsB Journal</td><td>168000</td></tr><tr><td>French Southern Territories</td><td>Don't Waste the Crumbs</td><td>119000</td></tr><tr><td>Gabon</td><td>Angela Watson's Truth for Teachers</td><td>88000</td></tr><tr><td>Gambia</td><td>The Travel Hacking Life</td><td>61000</td></tr><tr><td>Georgia</td><td>Susie Allison | Busy Toddler</td><td>203000</td></tr><tr><td>Germany</td><td>Michael Friermood</td><td>48000</td></tr><tr><td>Ghana</td><td>Zina Harrington</td><td>1000000</td></tr><tr><td>Gibraltar</td><td>TheSuperBOO!</td><td>89000</td></tr><tr><td>Greece</td><td>Thirty Handmade Days</td><td>397000</td></tr><tr><td>Greenland</td><td>The Educators' Spin On It</td><td>2000000</td></tr><tr><td>Grenada</td><td>The Mighty</td><td>185000</td></tr><tr><td>Guadeloupe</td><td>Kathy+Steve | TBD + TGG + OhMeOhMy</td><td>355000</td></tr><tr><td>Guam</td><td>imgur</td><td>4000000</td></tr><tr><td>Guatemala</td><td>Homedit.com</td><td>965000</td></tr><tr><td>Guernsey</td><td>TattooMagz</td><td>32000</td></tr><tr><td>Guinea</td><td>Cars Zone</td><td>134000</td></tr><tr><td>Guinea-Bissau</td><td>Kristina Buskirk | Toddler Approved</td><td>160000</td></tr><tr><td>Guyana</td><td>J ♥ Millennial Boss</td><td>29000</td></tr><tr><td>Haiti</td><td>Fres Houz</td><td>100000</td></tr><tr><td>Heard Island and McDonald Islands</td><td>Real Men Real Style</td><td>487000</td></tr><tr><td>Holy See (Vatican City State)</td><td>Viva Decora</td><td>2000000</td></tr><tr><td>Honduras</td><td>Mad in Crafts</td><td>106000</td></tr><tr><td>Hong Kong</td><td>Remodelista</td><td>991000</td></tr><tr><td>Hungary</td><td>Weed 'em & Reap</td><td>77000</td></tr><tr><td>Iceland</td><td>The Hundreds</td><td>5000</td></tr><tr><td>India</td><td>Happiness is Homemade | Crafts, Printables, Party Ideas, & More!</td><td>167000</td></tr><tr><td>Indonesia</td><td>Forbes</td><td>252000</td></tr><tr><td>Iran</td><td>WeddingWire</td><td>520000</td></tr><tr><td>Iraq</td><td>House Beautiful</td><td>875000</td></tr><tr><td>Ireland</td><td>Deavita.fr</td><td>239000</td></tr><tr><td>Isle of Man</td><td>The Chalkboard Mag</td><td>87000</td></tr><tr><td>Israel</td><td>On Point Fresh</td><td>44000</td></tr><tr><td>Italy</td><td>GirlGetGlamorous</td><td>21000</td></tr><tr><td>Jamaica</td><td>Jar Of Lemons (Healthy Recipes | Home | Family)</td><td>45000</td></tr><tr><td>Japan</td><td>Beautiful Dawn | Arts & Crafts · Crochet Patterns · Drawing Ideas</td><td>159000</td></tr><tr><td>Jersey</td><td>PrincetonBookReview.com</td><td>9000</td></tr><tr><td>Jordan</td><td>Cory O'Brien</td><td>5000</td></tr><tr><td>Kazakhstan</td><td>Christina Maria - DIY Home Improvement + Decor</td><td>75000</td></tr><tr><td>Kenya</td><td>Vem que te Conto! | Dicas de Viagem</td><td>95000</td></tr><tr><td>Kiribati</td><td>MOMtivational // Parenting + Pregnancy + More</td><td>8000</td></tr><tr><td>Korea</td><td>Latest Hairstyles</td><td>627000</td></tr><tr><td>Kuwait</td><td>Green Wedding Shoes</td><td>2000000</td></tr><tr><td>Kyrgyz Republic</td><td>ADDitude Magazine</td><td>87000</td></tr><tr><td>Lao People's Democratic Republic</td><td>Who What Wear UK</td><td>375000</td></tr><tr><td>Latvia</td><td>Royal Fashionist</td><td>188000</td></tr><tr><td>Lebanon</td><td>Your Positive Oasis | Motivation| Inspiration| Wellness</td><td>163000</td></tr><tr><td>Lesotho</td><td>The Guardian</td><td>908000</td></tr><tr><td>Liberia</td><td>Happy Hooligans - Crafts and Activities for Kids</td><td>550000</td></tr><tr><td>Libyan Arab Jamahiriya</td><td>miss coco</td><td>157000</td></tr><tr><td>Liechtenstein</td><td>Scrapbook.com</td><td>342000</td></tr><tr><td>Lithuania</td><td>Play Ideas</td><td>52000</td></tr><tr><td>Luxembourg</td><td>Linda Kamp-Around The Kampfire</td><td>35000</td></tr><tr><td>Macao</td><td>Vanessa Ferran</td><td>3000</td></tr><tr><td>Macedonia</td><td>Money Propeller</td><td>10000</td></tr><tr><td>Madagascar</td><td>MomAdvice</td><td>112000</td></tr><tr><td>Malawi</td><td>Tequila_Rose 🌹</td><td>18000</td></tr><tr><td>Maldives</td><td>Parents</td><td>416000</td></tr><tr><td>Mali</td><td>Mobile Home Living®</td><td>122000</td></tr><tr><td>Malta</td><td>Iowa Girl Eats</td><td>219000</td></tr><tr><td>Marshall Islands</td><td>Dashing Darlin' </td><td>13000</td></tr><tr><td>Martinique</td><td>Heart Handmade UK | Craft Room Ideas, Craft Ideas For Adults</td><td>1000000</td></tr><tr><td>Mauritania</td><td>The Literacy Nest</td><td>22000</td></tr><tr><td>Mauritius</td><td>Cool Things- Drawing Ideas , Fashion ,Beautiy and Home Decor</td><td>46000</td></tr><tr><td>Mayotte</td><td>Sugar, Spice & Glitter</td><td>65000</td></tr><tr><td>Mexico</td><td>worksnwood</td><td>9000</td></tr><tr><td>Micronesia</td><td>Livelife_ArtAn</td><td>2000</td></tr><tr><td>Moldova</td><td>HolleewoodHair</td><td>74000</td></tr><tr><td>Monaco</td><td>Artists Network</td><td>227000</td></tr><tr><td>Mongolia</td><td>ZAFUL</td><td>893000</td></tr><tr><td>Montenegro</td><td>Leelah loves</td><td>45000</td></tr><tr><td>Montserrat</td><td>Luci // Mums Make Lists - Family and mom lifestyle</td><td>20000</td></tr><tr><td>Morocco</td><td>Two Southern Sweeties | Life After 50 + Second Act Lifestyle</td><td>13000</td></tr><tr><td>Mozambique</td><td>Stylin by Aylin</td><td>83000</td></tr><tr><td>Myanmar</td><td>Hearth and Vine</td><td>88000</td></tr><tr><td>Namibia</td><td>Snappy Gourmet</td><td>168000</td></tr><tr><td>Nauru</td><td>The Intrepid Guide | Language Learning for Travel</td><td>45000</td></tr><tr><td>Nepal</td><td>Living on a Dime to Grow Rich</td><td>197000</td></tr><tr><td>Netherlands</td><td>Tracie Kiernan | Step By Step Painting |</td><td>308000</td></tr><tr><td>Netherlands Antilles</td><td>Sweet T Makes Three</td><td>61000</td></tr><tr><td>New Caledonia</td><td>Husskie</td><td>20000</td></tr><tr><td>New Zealand</td><td>ZENIDEES</td><td>19000</td></tr><tr><td>Nicaragua</td><td>Five Foot Feminine | Petite Style Blog + Home Decor</td><td>12000</td></tr><tr><td>Niger</td><td>The Edvocate</td><td>4000</td></tr><tr><td>Nigeria</td><td>Jo-Anna |  A Pretty Life</td><td>60000</td></tr><tr><td>Niue</td><td>Michelle | Brown Eyed Baker</td><td>271000</td></tr><tr><td>Norfolk Island</td><td>The Skinny Confidential</td><td>60000</td></tr><tr><td>Norway</td><td>epicurious</td><td>409000</td></tr><tr><td>Oman</td><td>CentSai |  Personal Finance | Budgeting and Saving Money</td><td>11000</td></tr><tr><td>Pakistan</td><td>Buyer Select</td><td>441000</td></tr><tr><td>Palau</td><td>Sailing into Second</td><td>6000</td></tr><tr><td>Palestinian Territory</td><td>Onedio.com</td><td>561000</td></tr><tr><td>Panama</td><td>Alanna | Periodic Adventures</td><td>1000</td></tr><tr><td>Papua New Guinea</td><td>William Nowell</td><td>5000</td></tr><tr><td>Paraguay</td><td>Bernadette Balla | Spirituality, Healing, Growth & Inspiration</td><td>7000</td></tr><tr><td>Peru</td><td>Nashvegasmama</td><td>6000</td></tr><tr><td>Philippines</td><td>ForYou</td><td>2000</td></tr><tr><td>Pitcairn Islands</td><td>Marla Meridith</td><td>671000</td></tr><tr><td>Poland</td><td>Not In Jersey - Mom Blog</td><td>4000</td></tr><tr><td>Portugal</td><td>Lindsey Blogs</td><td>29000</td></tr><tr><td>Puerto Rico</td><td>Stephanie Lynn</td><td>116000</td></tr><tr><td>Qatar</td><td>Hudson Farmhouse</td><td>45000</td></tr><tr><td>Reunion</td><td>xolivi</td><td>2000</td></tr><tr><td>Romania</td><td>Soberbadassery | Your Free Online Guide To Sober Living </td><td>9000</td></tr><tr><td>Russian Federation</td><td>Ana White</td><td>1000000</td></tr><tr><td>Rwanda</td><td>Traveling Chic</td><td>6000</td></tr><tr><td>Saint Barthelemy</td><td>Alexandria Franko</td><td>517</td></tr><tr><td>Saint Helena</td><td>Book Riot</td><td>154000</td></tr><tr><td>Saint Kitts and Nevis</td><td>vintagetopia</td><td>171000</td></tr><tr><td>Saint Lucia</td><td>Teaching Exceptional Kinders</td><td>3000</td></tr><tr><td>Saint Martin</td><td>Montgo Farmhouse</td><td>9000</td></tr><tr><td>Saint Pierre and Miquelon</td><td>Ebbert Barnes</td><td>323</td></tr><tr><td>Saint Vincent and the Grenadines</td><td>CabreraE</td><td>121</td></tr><tr><td>Samoa</td><td>Six Figures Under | Frugal Living + Family Finance +Paying off Debt</td><td>32000</td></tr><tr><td>San Marino</td><td>Sarah Joy Blog</td><td>125000</td></tr><tr><td>Sao Tome and Principe</td><td>kayyla.april</td><td>2000</td></tr><tr><td>Saudi Arabia</td><td>Jay Anna Fuentes</td><td>332</td></tr><tr><td>Senegal</td><td>Life-n-Reflection</td><td>24000</td></tr><tr><td>Serbia</td><td>Keitha Rankin</td><td>248</td></tr><tr><td>Seychelles</td><td>ALL FOR WOMAN</td><td>21000</td></tr><tr><td>Singapore</td><td>Hey Let's Make Stuff</td><td>88000</td></tr><tr><td>Slovakia (Slovak Republic)</td><td>CollectorCarAds.com</td><td>11000</td></tr><tr><td>Slovenia</td><td>Adrienne Wiggins</td><td>12000</td></tr><tr><td>Solomon Islands</td><td>Christy from Our Southern Home</td><td>81000</td></tr><tr><td>Somalia</td><td>Balloons_worldwides</td><td>118000</td></tr><tr><td>South Africa</td><td>Sophie Watters</td><td>3000</td></tr><tr><td>South Georgia and the South Sandwich Islands</td><td>Classic Nation</td><td>75000</td></tr><tr><td>Sri Lanka</td><td>Abd El Hakim</td><td>1000</td></tr><tr><td>Sudan</td><td>Literacy and Math Ideas</td><td>63000</td></tr><tr><td>Suriname</td><td>Modern MOH | How to be a Head Bridesmaid in Charge</td><td>10000</td></tr><tr><td>Svalbard & Jan Mayen Islands</td><td>Merissa (Little House Living) | Simple Living + Frugal Living</td><td>152000</td></tr><tr><td>Swaziland</td><td>Botanical Stars | Self-Care Magic, Empowered & Natural Skincare</td><td>5000</td></tr><tr><td>Sweden</td><td>My Bored Toddler</td><td>58000</td></tr><tr><td>Switzerland</td><td>Kelley Rosney</td><td>45</td></tr><tr><td>Syrian Arab Republic</td><td>Modbargains</td><td>1000</td></tr><tr><td>Taiwan</td><td>Emily Lightly</td><td>32000</td></tr><tr><td>Tajikistan</td><td>Fantabulosity</td><td>95000</td></tr><tr><td>Tanzania</td><td>Kevmrc travel</td><td>5000</td></tr><tr><td>Thailand</td><td>Southern Productions Weddings & Events | MS Wedding Planner</td><td>10000</td></tr><tr><td>Timor-Leste</td><td>Sunshine Seeker ⋒ Travel Blog</td><td>12000</td></tr><tr><td>Togo</td><td>debra</td><td>4000</td></tr><tr><td>Tokelau</td><td>Budget Savvy Diva</td><td>384000</td></tr><tr><td>Tonga</td><td>Grecia Perales</td><td>0</td></tr><tr><td>Trinidad and Tobago</td><td>Syndi Mulcahy</td><td>254</td></tr><tr><td>Tunisia</td><td>El blog amarillo</td><td>66000</td></tr><tr><td>Turkey</td><td>Tastefully Frugal</td><td>40000</td></tr><tr><td>Turkmenistan</td><td>Jennifer Maker ❤️ DIY Home Decor + Craft + Paper Flowers</td><td>193000</td></tr><tr><td>Turks and Caicos Islands</td><td>Let's Eat Cake</td><td>19000</td></tr><tr><td>Tuvalu</td><td>Addymae Rodi</td><td>41</td></tr><tr><td>Uganda</td><td>Inspired by Charm</td><td>3000000</td></tr><tr><td>Ukraine</td><td>Mom like you mean it</td><td>10000</td></tr><tr><td>United Kingdom</td><td>teresa davis</td><td>30</td></tr><tr><td>United States Minor Outlying Islands</td><td>Bloglovin'</td><td>3000000</td></tr><tr><td>United States Virgin Islands</td><td>Ugly Duckling House | DIY, Home, Woodworking, Crafts & Recipes</td><td>4000000</td></tr><tr><td>United States of America</td><td>Evolution of Style</td><td>47000</td></tr><tr><td>Uzbekistan</td><td>giil</td><td>57</td></tr><tr><td>Vanuatu</td><td>Digital Art | Fine Art | Abstract Art | Graphic Art | Photography</td><td>10000</td></tr><tr><td>Venezuela</td><td>My Poppet - A Craft, Travel & Food Blog for Colourful Living</td><td>100000</td></tr><tr><td>Vietnam</td><td>Leanne | Midlife Blogger at www.crestingthehill.com.au</td><td>15000</td></tr><tr><td>Wallis and Futuna</td><td>Organize Ways</td><td>2000</td></tr><tr><td>Western Sahara</td><td>Emma Corley</td><td>2000</td></tr><tr><td>Yemen</td><td>T I F F A N Y</td><td>4000</td></tr><tr><td>Zambia</td><td>HALFTEE Layering Fashions</td><td>32000</td></tr></tbody></table></div>"
      ]
     },
     "metadata": {
      "application/vnd.databricks.v1+output": {
       "addedWidgets": {},
       "aggData": [],
       "aggError": "",
       "aggOverflow": false,
       "aggSchema": [],
       "aggSeriesLimitReached": false,
       "aggType": "",
       "arguments": {},
       "columnCustomDisplayInfos": {},
       "data": [
        [
         "Afghanistan",
         "9GAG",
         3000000
        ],
        [
         "Albania",
         "The Minds Journal",
         5000000
        ],
        [
         "Algeria",
         "Apartment Therapy",
         5000000
        ],
        [
         "American Samoa",
         "Mamas Uncut",
         8000000
        ],
        [
         "Andorra",
         "Teachers Pay Teachers",
         1000000
        ],
        [
         "Angola",
         "Tastemade",
         8000000
        ],
        [
         "Anguilla",
         "We Heart It",
         15000000
        ],
        [
         "Antarctica (the territory South of 60 deg S)",
         "Refinery29",
         1000000
        ],
        [
         "Antigua and Barbuda",
         "Country Living Magazine",
         1000000
        ],
        [
         "Argentina",
         "Cheezburger",
         2000000
        ],
        [
         "Armenia",
         "Michelle {CraftyMorning.com}",
         892000
        ],
        [
         "Aruba",
         "GQ Magazine",
         874000
        ],
        [
         "Australia",
         "Mujer de 10 ",
         2000000
        ],
        [
         "Austria",
         "Allwomenstalk - girl rules ",
         813000
        ],
        [
         "Azerbaijan",
         "Style Me Pretty",
         6000000
        ],
        [
         "Bahamas",
         "Handmade Charlotte",
         948000
        ],
        [
         "Bahrain",
         "Rainy Day Mum",
         337000
        ],
        [
         "Bangladesh",
         "Better Homes and Gardens",
         4000000
        ],
        [
         "Barbados",
         "The Creativity Exchange",
         410000
        ],
        [
         "Belarus",
         "Prudent Penny Pincher - Home Decor, Organization, Crafts, Recipes",
         648000
        ],
        [
         "Belgium",
         "This Old House",
         944000
        ],
        [
         "Belize",
         "Easy Kids Crafts & Activities | Preschool & Kindergarten Ideas",
         267000
        ],
        [
         "Benin",
         "Decoist.com",
         432000
        ],
        [
         "Bermuda",
         "3 Boys and a Dog",
         83000
        ],
        [
         "Bhutan",
         "Esquire Magazine",
         130000
        ],
        [
         "Bolivia",
         "A Beautiful Mess",
         595000
        ],
        [
         "Bosnia and Herzegovina",
         "Stylesatlife",
         388000
        ],
        [
         "Botswana",
         "OkChicas",
         3000000
        ],
        [
         "Bouvet Island (Bouvetoya)",
         "POPSUGAR",
         5000000
        ],
        [
         "Brazil",
         "Sanctuary Home Decor",
         42000
        ],
        [
         "British Indian Ocean Territory (Chagos Archipelago)",
         "Design Rulz",
         248000
        ],
        [
         "British Virgin Islands",
         "The WHOot",
         1000000
        ],
        [
         "Brunei Darussalam",
         "Kids Craft Room",
         277000
        ],
        [
         "Bulgaria",
         "Half Baked Harvest",
         912000
        ],
        [
         "Burkina Faso",
         "Behance",
         6000000
        ],
        [
         "Burundi",
         "Macho Moda",
         620000
        ],
        [
         "Cambodia",
         "Catch My Party",
         2000000
        ],
        [
         "Cameroon",
         "The Blonde Abroad",
         123000
        ],
        [
         "Canada",
         "Giorgenti New York",
         258000
        ],
        [
         "Cape Verde",
         "Sand and Sisal",
         178000
        ],
        [
         "Cayman Islands",
         "InStyle",
         1000000
        ],
        [
         "Central African Republic",
         "PureWow",
         868000
        ],
        [
         "Chad",
         "Glued To My Crafts",
         226000
        ],
        [
         "Chile",
         "Local Adventurer - Las Vegas + Worldwide Travel Blog",
         89000
        ],
        [
         "China",
         "Empowered Sustenance",
         127000
        ],
        [
         "Christmas Island",
         "Instructables",
         3000000
        ],
        [
         "Cocos (Keeling) Islands",
         "How Does She",
         709000
        ],
        [
         "Colombia",
         "DIY Magazine",
         466000
        ],
        [
         "Comoros",
         "Ruffled",
         4000000
        ],
        [
         "Congo",
         "Virginia | Fynes Designs : Home Decor, Easy DIY’s, Lifestyle",
         410000
        ],
        [
         "Cook Islands",
         "Fun Loving Families: Crafts, Games, and Activities for Kids",
         31000
        ],
        [
         "Costa Rica",
         "Martha Stewart Living",
         2000000
        ],
        [
         "Cote d'Ivoire",
         "Mom Junction",
         565000
        ],
        [
         "Croatia",
         "Glowsly",
         157000
        ],
        [
         "Cuba",
         "Cuded Art & Design",
         1000000
        ],
        [
         "Cyprus",
         "Porchdotcom",
         117000
        ],
        [
         "Czech Republic",
         "Tatertots and Jello .com",
         398000
        ],
        [
         "Denmark",
         "A Life Adjacent",
         36000
        ],
        [
         "Djibouti",
         "El Hombre",
         307000
        ],
        [
         "Dominica",
         "Monique - Living Life and Learning",
         67000
        ],
        [
         "Dominican Republic",
         "Wonder Forest",
         104000
        ],
        [
         "Ecuador",
         "LABONNI",
         84000
        ],
        [
         "Egypt",
         "Allure",
         346000
        ],
        [
         "El Salvador",
         "Power of Positivity",
         221000
        ],
        [
         "Equatorial Guinea",
         "Whisper Wanderlust * Travel Blog",
         10000
        ],
        [
         "Eritrea",
         "Core77",
         105000
        ],
        [
         "Estonia",
         "Morgan |  Modernly Morgan",
         13000
        ],
        [
         "Ethiopia",
         "Refresh Restyle Debbie DIY Home Decor, Chalk Couture Designer",
         253000
        ],
        [
         "Falkland Islands (Malvinas)",
         "A Blissful Nest",
         113000
        ],
        [
         "Faroe Islands",
         "Veterans United Home Loans",
         11000
        ],
        [
         "Fiji",
         "Teach Create Motivate",
         41000
        ],
        [
         "Finland",
         "Amee",
         79000
        ],
        [
         "France",
         "Hello Lovely",
         115000
        ],
        [
         "French Guiana",
         "Sweet Red Poppy Free Sewing Patterns, Cut Files & Craft Tutorials",
         241000
        ],
        [
         "French Polynesia",
         "EsB Journal",
         168000
        ],
        [
         "French Southern Territories",
         "Don't Waste the Crumbs",
         119000
        ],
        [
         "Gabon",
         "Angela Watson's Truth for Teachers",
         88000
        ],
        [
         "Gambia",
         "The Travel Hacking Life",
         61000
        ],
        [
         "Georgia",
         "Susie Allison | Busy Toddler",
         203000
        ],
        [
         "Germany",
         "Michael Friermood",
         48000
        ],
        [
         "Ghana",
         "Zina Harrington",
         1000000
        ],
        [
         "Gibraltar",
         "TheSuperBOO!",
         89000
        ],
        [
         "Greece",
         "Thirty Handmade Days",
         397000
        ],
        [
         "Greenland",
         "The Educators' Spin On It",
         2000000
        ],
        [
         "Grenada",
         "The Mighty",
         185000
        ],
        [
         "Guadeloupe",
         "Kathy+Steve | TBD + TGG + OhMeOhMy",
         355000
        ],
        [
         "Guam",
         "imgur",
         4000000
        ],
        [
         "Guatemala",
         "Homedit.com",
         965000
        ],
        [
         "Guernsey",
         "TattooMagz",
         32000
        ],
        [
         "Guinea",
         "Cars Zone",
         134000
        ],
        [
         "Guinea-Bissau",
         "Kristina Buskirk | Toddler Approved",
         160000
        ],
        [
         "Guyana",
         "J ♥ Millennial Boss",
         29000
        ],
        [
         "Haiti",
         "Fres Houz",
         100000
        ],
        [
         "Heard Island and McDonald Islands",
         "Real Men Real Style",
         487000
        ],
        [
         "Holy See (Vatican City State)",
         "Viva Decora",
         2000000
        ],
        [
         "Honduras",
         "Mad in Crafts",
         106000
        ],
        [
         "Hong Kong",
         "Remodelista",
         991000
        ],
        [
         "Hungary",
         "Weed 'em & Reap",
         77000
        ],
        [
         "Iceland",
         "The Hundreds",
         5000
        ],
        [
         "India",
         "Happiness is Homemade | Crafts, Printables, Party Ideas, & More!",
         167000
        ],
        [
         "Indonesia",
         "Forbes",
         252000
        ],
        [
         "Iran",
         "WeddingWire",
         520000
        ],
        [
         "Iraq",
         "House Beautiful",
         875000
        ],
        [
         "Ireland",
         "Deavita.fr",
         239000
        ],
        [
         "Isle of Man",
         "The Chalkboard Mag",
         87000
        ],
        [
         "Israel",
         "On Point Fresh",
         44000
        ],
        [
         "Italy",
         "GirlGetGlamorous",
         21000
        ],
        [
         "Jamaica",
         "Jar Of Lemons (Healthy Recipes | Home | Family)",
         45000
        ],
        [
         "Japan",
         "Beautiful Dawn | Arts & Crafts · Crochet Patterns · Drawing Ideas",
         159000
        ],
        [
         "Jersey",
         "PrincetonBookReview.com",
         9000
        ],
        [
         "Jordan",
         "Cory O'Brien",
         5000
        ],
        [
         "Kazakhstan",
         "Christina Maria - DIY Home Improvement + Decor",
         75000
        ],
        [
         "Kenya",
         "Vem que te Conto! | Dicas de Viagem",
         95000
        ],
        [
         "Kiribati",
         "MOMtivational // Parenting + Pregnancy + More",
         8000
        ],
        [
         "Korea",
         "Latest Hairstyles",
         627000
        ],
        [
         "Kuwait",
         "Green Wedding Shoes",
         2000000
        ],
        [
         "Kyrgyz Republic",
         "ADDitude Magazine",
         87000
        ],
        [
         "Lao People's Democratic Republic",
         "Who What Wear UK",
         375000
        ],
        [
         "Latvia",
         "Royal Fashionist",
         188000
        ],
        [
         "Lebanon",
         "Your Positive Oasis | Motivation| Inspiration| Wellness",
         163000
        ],
        [
         "Lesotho",
         "The Guardian",
         908000
        ],
        [
         "Liberia",
         "Happy Hooligans - Crafts and Activities for Kids",
         550000
        ],
        [
         "Libyan Arab Jamahiriya",
         "miss coco",
         157000
        ],
        [
         "Liechtenstein",
         "Scrapbook.com",
         342000
        ],
        [
         "Lithuania",
         "Play Ideas",
         52000
        ],
        [
         "Luxembourg",
         "Linda Kamp-Around The Kampfire",
         35000
        ],
        [
         "Macao",
         "Vanessa Ferran",
         3000
        ],
        [
         "Macedonia",
         "Money Propeller",
         10000
        ],
        [
         "Madagascar",
         "MomAdvice",
         112000
        ],
        [
         "Malawi",
         "Tequila_Rose 🌹",
         18000
        ],
        [
         "Maldives",
         "Parents",
         416000
        ],
        [
         "Mali",
         "Mobile Home Living®",
         122000
        ],
        [
         "Malta",
         "Iowa Girl Eats",
         219000
        ],
        [
         "Marshall Islands",
         "Dashing Darlin' ",
         13000
        ],
        [
         "Martinique",
         "Heart Handmade UK | Craft Room Ideas, Craft Ideas For Adults",
         1000000
        ],
        [
         "Mauritania",
         "The Literacy Nest",
         22000
        ],
        [
         "Mauritius",
         "Cool Things- Drawing Ideas , Fashion ,Beautiy and Home Decor",
         46000
        ],
        [
         "Mayotte",
         "Sugar, Spice & Glitter",
         65000
        ],
        [
         "Mexico",
         "worksnwood",
         9000
        ],
        [
         "Micronesia",
         "Livelife_ArtAn",
         2000
        ],
        [
         "Moldova",
         "HolleewoodHair",
         74000
        ],
        [
         "Monaco",
         "Artists Network",
         227000
        ],
        [
         "Mongolia",
         "ZAFUL",
         893000
        ],
        [
         "Montenegro",
         "Leelah loves",
         45000
        ],
        [
         "Montserrat",
         "Luci // Mums Make Lists - Family and mom lifestyle",
         20000
        ],
        [
         "Morocco",
         "Two Southern Sweeties | Life After 50 + Second Act Lifestyle",
         13000
        ],
        [
         "Mozambique",
         "Stylin by Aylin",
         83000
        ],
        [
         "Myanmar",
         "Hearth and Vine",
         88000
        ],
        [
         "Namibia",
         "Snappy Gourmet",
         168000
        ],
        [
         "Nauru",
         "The Intrepid Guide | Language Learning for Travel",
         45000
        ],
        [
         "Nepal",
         "Living on a Dime to Grow Rich",
         197000
        ],
        [
         "Netherlands",
         "Tracie Kiernan | Step By Step Painting |",
         308000
        ],
        [
         "Netherlands Antilles",
         "Sweet T Makes Three",
         61000
        ],
        [
         "New Caledonia",
         "Husskie",
         20000
        ],
        [
         "New Zealand",
         "ZENIDEES",
         19000
        ],
        [
         "Nicaragua",
         "Five Foot Feminine | Petite Style Blog + Home Decor",
         12000
        ],
        [
         "Niger",
         "The Edvocate",
         4000
        ],
        [
         "Nigeria",
         "Jo-Anna |  A Pretty Life",
         60000
        ],
        [
         "Niue",
         "Michelle | Brown Eyed Baker",
         271000
        ],
        [
         "Norfolk Island",
         "The Skinny Confidential",
         60000
        ],
        [
         "Norway",
         "epicurious",
         409000
        ],
        [
         "Oman",
         "CentSai |  Personal Finance | Budgeting and Saving Money",
         11000
        ],
        [
         "Pakistan",
         "Buyer Select",
         441000
        ],
        [
         "Palau",
         "Sailing into Second",
         6000
        ],
        [
         "Palestinian Territory",
         "Onedio.com",
         561000
        ],
        [
         "Panama",
         "Alanna | Periodic Adventures",
         1000
        ],
        [
         "Papua New Guinea",
         "William Nowell",
         5000
        ],
        [
         "Paraguay",
         "Bernadette Balla | Spirituality, Healing, Growth & Inspiration",
         7000
        ],
        [
         "Peru",
         "Nashvegasmama",
         6000
        ],
        [
         "Philippines",
         "ForYou",
         2000
        ],
        [
         "Pitcairn Islands",
         "Marla Meridith",
         671000
        ],
        [
         "Poland",
         "Not In Jersey - Mom Blog",
         4000
        ],
        [
         "Portugal",
         "Lindsey Blogs",
         29000
        ],
        [
         "Puerto Rico",
         "Stephanie Lynn",
         116000
        ],
        [
         "Qatar",
         "Hudson Farmhouse",
         45000
        ],
        [
         "Reunion",
         "xolivi",
         2000
        ],
        [
         "Romania",
         "Soberbadassery | Your Free Online Guide To Sober Living ",
         9000
        ],
        [
         "Russian Federation",
         "Ana White",
         1000000
        ],
        [
         "Rwanda",
         "Traveling Chic",
         6000
        ],
        [
         "Saint Barthelemy",
         "Alexandria Franko",
         517
        ],
        [
         "Saint Helena",
         "Book Riot",
         154000
        ],
        [
         "Saint Kitts and Nevis",
         "vintagetopia",
         171000
        ],
        [
         "Saint Lucia",
         "Teaching Exceptional Kinders",
         3000
        ],
        [
         "Saint Martin",
         "Montgo Farmhouse",
         9000
        ],
        [
         "Saint Pierre and Miquelon",
         "Ebbert Barnes",
         323
        ],
        [
         "Saint Vincent and the Grenadines",
         "CabreraE",
         121
        ],
        [
         "Samoa",
         "Six Figures Under | Frugal Living + Family Finance +Paying off Debt",
         32000
        ],
        [
         "San Marino",
         "Sarah Joy Blog",
         125000
        ],
        [
         "Sao Tome and Principe",
         "kayyla.april",
         2000
        ],
        [
         "Saudi Arabia",
         "Jay Anna Fuentes",
         332
        ],
        [
         "Senegal",
         "Life-n-Reflection",
         24000
        ],
        [
         "Serbia",
         "Keitha Rankin",
         248
        ],
        [
         "Seychelles",
         "ALL FOR WOMAN",
         21000
        ],
        [
         "Singapore",
         "Hey Let's Make Stuff",
         88000
        ],
        [
         "Slovakia (Slovak Republic)",
         "CollectorCarAds.com",
         11000
        ],
        [
         "Slovenia",
         "Adrienne Wiggins",
         12000
        ],
        [
         "Solomon Islands",
         "Christy from Our Southern Home",
         81000
        ],
        [
         "Somalia",
         "Balloons_worldwides",
         118000
        ],
        [
         "South Africa",
         "Sophie Watters",
         3000
        ],
        [
         "South Georgia and the South Sandwich Islands",
         "Classic Nation",
         75000
        ],
        [
         "Sri Lanka",
         "Abd El Hakim",
         1000
        ],
        [
         "Sudan",
         "Literacy and Math Ideas",
         63000
        ],
        [
         "Suriname",
         "Modern MOH | How to be a Head Bridesmaid in Charge",
         10000
        ],
        [
         "Svalbard & Jan Mayen Islands",
         "Merissa (Little House Living) | Simple Living + Frugal Living",
         152000
        ],
        [
         "Swaziland",
         "Botanical Stars | Self-Care Magic, Empowered & Natural Skincare",
         5000
        ],
        [
         "Sweden",
         "My Bored Toddler",
         58000
        ],
        [
         "Switzerland",
         "Kelley Rosney",
         45
        ],
        [
         "Syrian Arab Republic",
         "Modbargains",
         1000
        ],
        [
         "Taiwan",
         "Emily Lightly",
         32000
        ],
        [
         "Tajikistan",
         "Fantabulosity",
         95000
        ],
        [
         "Tanzania",
         "Kevmrc travel",
         5000
        ],
        [
         "Thailand",
         "Southern Productions Weddings & Events | MS Wedding Planner",
         10000
        ],
        [
         "Timor-Leste",
         "Sunshine Seeker ⋒ Travel Blog",
         12000
        ],
        [
         "Togo",
         "debra",
         4000
        ],
        [
         "Tokelau",
         "Budget Savvy Diva",
         384000
        ],
        [
         "Tonga",
         "Grecia Perales",
         0
        ],
        [
         "Trinidad and Tobago",
         "Syndi Mulcahy",
         254
        ],
        [
         "Tunisia",
         "El blog amarillo",
         66000
        ],
        [
         "Turkey",
         "Tastefully Frugal",
         40000
        ],
        [
         "Turkmenistan",
         "Jennifer Maker ❤️ DIY Home Decor + Craft + Paper Flowers",
         193000
        ],
        [
         "Turks and Caicos Islands",
         "Let's Eat Cake",
         19000
        ],
        [
         "Tuvalu",
         "Addymae Rodi",
         41
        ],
        [
         "Uganda",
         "Inspired by Charm",
         3000000
        ],
        [
         "Ukraine",
         "Mom like you mean it",
         10000
        ],
        [
         "United Kingdom",
         "teresa davis",
         30
        ],
        [
         "United States Minor Outlying Islands",
         "Bloglovin'",
         3000000
        ],
        [
         "United States Virgin Islands",
         "Ugly Duckling House | DIY, Home, Woodworking, Crafts & Recipes",
         4000000
        ],
        [
         "United States of America",
         "Evolution of Style",
         47000
        ],
        [
         "Uzbekistan",
         "giil",
         57
        ],
        [
         "Vanuatu",
         "Digital Art | Fine Art | Abstract Art | Graphic Art | Photography",
         10000
        ],
        [
         "Venezuela",
         "My Poppet - A Craft, Travel & Food Blog for Colourful Living",
         100000
        ],
        [
         "Vietnam",
         "Leanne | Midlife Blogger at www.crestingthehill.com.au",
         15000
        ],
        [
         "Wallis and Futuna",
         "Organize Ways",
         2000
        ],
        [
         "Western Sahara",
         "Emma Corley",
         2000
        ],
        [
         "Yemen",
         "T I F F A N Y",
         4000
        ],
        [
         "Zambia",
         "HALFTEE Layering Fashions",
         32000
        ]
       ],
       "datasetInfos": [],
       "dbfsResultPath": null,
       "isJsonSchema": true,
       "metadata": {},
       "overflow": false,
       "plotOptions": {
        "customPlotOptions": {},
        "displayType": "table",
        "pivotAggregation": null,
        "pivotColumns": null,
        "xColumns": null,
        "yColumns": null
       },
       "removedWidgets": [],
       "schema": [
        {
         "metadata": "{}",
         "name": "country",
         "type": "\"string\""
        },
        {
         "metadata": "{}",
         "name": "poster_name",
         "type": "\"string\""
        },
        {
         "metadata": "{}",
         "name": "follower_count",
         "type": "\"integer\""
        }
       ],
       "type": "table"
      }
     },
     "output_type": "display_data"
    },
    {
     "output_type": "display_data",
     "data": {
      "text/html": [
       "<style scoped>\n",
       "  .table-result-container {\n",
       "    max-height: 300px;\n",
       "    overflow: auto;\n",
       "  }\n",
       "  table, th, td {\n",
       "    border: 1px solid black;\n",
       "    border-collapse: collapse;\n",
       "  }\n",
       "  th, td {\n",
       "    padding: 5px;\n",
       "  }\n",
       "  th {\n",
       "    text-align: left;\n",
       "  }\n",
       "</style><div class='table-result-container'><table class='table-result'><thead style='background-color: white'><tr><th>country</th><th>follower_count</th></tr></thead><tbody><tr><td>Afghanistan</td><td>3000000</td></tr><tr><td>Albania</td><td>5000000</td></tr><tr><td>Algeria</td><td>5000000</td></tr><tr><td>American Samoa</td><td>8000000</td></tr><tr><td>Andorra</td><td>1000000</td></tr><tr><td>Angola</td><td>8000000</td></tr><tr><td>Anguilla</td><td>15000000</td></tr><tr><td>Antarctica (the territory South of 60 deg S)</td><td>1000000</td></tr><tr><td>Antigua and Barbuda</td><td>1000000</td></tr><tr><td>Argentina</td><td>2000000</td></tr><tr><td>Armenia</td><td>892000</td></tr><tr><td>Aruba</td><td>874000</td></tr><tr><td>Australia</td><td>2000000</td></tr><tr><td>Austria</td><td>813000</td></tr><tr><td>Azerbaijan</td><td>6000000</td></tr><tr><td>Bahamas</td><td>948000</td></tr><tr><td>Bahrain</td><td>337000</td></tr><tr><td>Bangladesh</td><td>4000000</td></tr><tr><td>Barbados</td><td>410000</td></tr><tr><td>Belarus</td><td>648000</td></tr><tr><td>Belgium</td><td>944000</td></tr><tr><td>Belize</td><td>267000</td></tr><tr><td>Benin</td><td>432000</td></tr><tr><td>Bermuda</td><td>83000</td></tr><tr><td>Bhutan</td><td>130000</td></tr><tr><td>Bolivia</td><td>595000</td></tr><tr><td>Bosnia and Herzegovina</td><td>388000</td></tr><tr><td>Botswana</td><td>3000000</td></tr><tr><td>Bouvet Island (Bouvetoya)</td><td>5000000</td></tr><tr><td>Brazil</td><td>42000</td></tr><tr><td>British Indian Ocean Territory (Chagos Archipelago)</td><td>248000</td></tr><tr><td>British Virgin Islands</td><td>1000000</td></tr><tr><td>Brunei Darussalam</td><td>277000</td></tr><tr><td>Bulgaria</td><td>912000</td></tr><tr><td>Burkina Faso</td><td>6000000</td></tr><tr><td>Burundi</td><td>620000</td></tr><tr><td>Cambodia</td><td>2000000</td></tr><tr><td>Cameroon</td><td>123000</td></tr><tr><td>Canada</td><td>258000</td></tr><tr><td>Cape Verde</td><td>178000</td></tr><tr><td>Cayman Islands</td><td>1000000</td></tr><tr><td>Central African Republic</td><td>868000</td></tr><tr><td>Chad</td><td>226000</td></tr><tr><td>Chile</td><td>89000</td></tr><tr><td>China</td><td>127000</td></tr><tr><td>Christmas Island</td><td>3000000</td></tr><tr><td>Cocos (Keeling) Islands</td><td>709000</td></tr><tr><td>Colombia</td><td>466000</td></tr><tr><td>Comoros</td><td>4000000</td></tr><tr><td>Congo</td><td>410000</td></tr><tr><td>Cook Islands</td><td>31000</td></tr><tr><td>Costa Rica</td><td>2000000</td></tr><tr><td>Cote d'Ivoire</td><td>565000</td></tr><tr><td>Croatia</td><td>157000</td></tr><tr><td>Cuba</td><td>1000000</td></tr><tr><td>Cyprus</td><td>117000</td></tr><tr><td>Czech Republic</td><td>398000</td></tr><tr><td>Denmark</td><td>36000</td></tr><tr><td>Djibouti</td><td>307000</td></tr><tr><td>Dominica</td><td>67000</td></tr><tr><td>Dominican Republic</td><td>104000</td></tr><tr><td>Ecuador</td><td>84000</td></tr><tr><td>Egypt</td><td>346000</td></tr><tr><td>El Salvador</td><td>221000</td></tr><tr><td>Equatorial Guinea</td><td>10000</td></tr><tr><td>Eritrea</td><td>105000</td></tr><tr><td>Estonia</td><td>13000</td></tr><tr><td>Ethiopia</td><td>253000</td></tr><tr><td>Falkland Islands (Malvinas)</td><td>113000</td></tr><tr><td>Faroe Islands</td><td>11000</td></tr><tr><td>Fiji</td><td>41000</td></tr><tr><td>Finland</td><td>79000</td></tr><tr><td>France</td><td>115000</td></tr><tr><td>French Guiana</td><td>241000</td></tr><tr><td>French Polynesia</td><td>168000</td></tr><tr><td>French Southern Territories</td><td>119000</td></tr><tr><td>Gabon</td><td>88000</td></tr><tr><td>Gambia</td><td>61000</td></tr><tr><td>Georgia</td><td>203000</td></tr><tr><td>Germany</td><td>48000</td></tr><tr><td>Ghana</td><td>1000000</td></tr><tr><td>Gibraltar</td><td>89000</td></tr><tr><td>Greece</td><td>397000</td></tr><tr><td>Greenland</td><td>2000000</td></tr><tr><td>Grenada</td><td>185000</td></tr><tr><td>Guadeloupe</td><td>355000</td></tr><tr><td>Guam</td><td>4000000</td></tr><tr><td>Guatemala</td><td>965000</td></tr><tr><td>Guernsey</td><td>32000</td></tr><tr><td>Guinea</td><td>134000</td></tr><tr><td>Guinea-Bissau</td><td>160000</td></tr><tr><td>Guyana</td><td>29000</td></tr><tr><td>Haiti</td><td>100000</td></tr><tr><td>Heard Island and McDonald Islands</td><td>487000</td></tr><tr><td>Holy See (Vatican City State)</td><td>2000000</td></tr><tr><td>Honduras</td><td>106000</td></tr><tr><td>Hong Kong</td><td>991000</td></tr><tr><td>Hungary</td><td>77000</td></tr><tr><td>Iceland</td><td>5000</td></tr><tr><td>India</td><td>167000</td></tr><tr><td>Indonesia</td><td>252000</td></tr><tr><td>Iran</td><td>520000</td></tr><tr><td>Iraq</td><td>875000</td></tr><tr><td>Ireland</td><td>239000</td></tr><tr><td>Isle of Man</td><td>87000</td></tr><tr><td>Israel</td><td>44000</td></tr><tr><td>Italy</td><td>21000</td></tr><tr><td>Jamaica</td><td>45000</td></tr><tr><td>Japan</td><td>159000</td></tr><tr><td>Jersey</td><td>9000</td></tr><tr><td>Jordan</td><td>5000</td></tr><tr><td>Kazakhstan</td><td>75000</td></tr><tr><td>Kenya</td><td>95000</td></tr><tr><td>Kiribati</td><td>8000</td></tr><tr><td>Korea</td><td>627000</td></tr><tr><td>Kuwait</td><td>2000000</td></tr><tr><td>Kyrgyz Republic</td><td>87000</td></tr><tr><td>Lao People's Democratic Republic</td><td>375000</td></tr><tr><td>Latvia</td><td>188000</td></tr><tr><td>Lebanon</td><td>163000</td></tr><tr><td>Lesotho</td><td>908000</td></tr><tr><td>Liberia</td><td>550000</td></tr><tr><td>Libyan Arab Jamahiriya</td><td>157000</td></tr><tr><td>Liechtenstein</td><td>342000</td></tr><tr><td>Lithuania</td><td>52000</td></tr><tr><td>Luxembourg</td><td>35000</td></tr><tr><td>Macao</td><td>3000</td></tr><tr><td>Macedonia</td><td>10000</td></tr><tr><td>Madagascar</td><td>112000</td></tr><tr><td>Malawi</td><td>18000</td></tr><tr><td>Maldives</td><td>416000</td></tr><tr><td>Mali</td><td>122000</td></tr><tr><td>Malta</td><td>219000</td></tr><tr><td>Marshall Islands</td><td>13000</td></tr><tr><td>Martinique</td><td>1000000</td></tr><tr><td>Mauritania</td><td>22000</td></tr><tr><td>Mauritius</td><td>46000</td></tr><tr><td>Mayotte</td><td>65000</td></tr><tr><td>Mexico</td><td>9000</td></tr><tr><td>Micronesia</td><td>2000</td></tr><tr><td>Moldova</td><td>74000</td></tr><tr><td>Monaco</td><td>227000</td></tr><tr><td>Mongolia</td><td>893000</td></tr><tr><td>Montenegro</td><td>45000</td></tr><tr><td>Montserrat</td><td>20000</td></tr><tr><td>Morocco</td><td>13000</td></tr><tr><td>Mozambique</td><td>83000</td></tr><tr><td>Myanmar</td><td>88000</td></tr><tr><td>Namibia</td><td>168000</td></tr><tr><td>Nauru</td><td>45000</td></tr><tr><td>Nepal</td><td>197000</td></tr><tr><td>Netherlands</td><td>308000</td></tr><tr><td>Netherlands Antilles</td><td>61000</td></tr><tr><td>New Caledonia</td><td>20000</td></tr><tr><td>New Zealand</td><td>19000</td></tr><tr><td>Nicaragua</td><td>12000</td></tr><tr><td>Niger</td><td>4000</td></tr><tr><td>Nigeria</td><td>60000</td></tr><tr><td>Niue</td><td>271000</td></tr><tr><td>Norfolk Island</td><td>60000</td></tr><tr><td>Norway</td><td>409000</td></tr><tr><td>Oman</td><td>11000</td></tr><tr><td>Pakistan</td><td>441000</td></tr><tr><td>Palau</td><td>6000</td></tr><tr><td>Palestinian Territory</td><td>561000</td></tr><tr><td>Panama</td><td>1000</td></tr><tr><td>Papua New Guinea</td><td>5000</td></tr><tr><td>Paraguay</td><td>7000</td></tr><tr><td>Peru</td><td>6000</td></tr><tr><td>Philippines</td><td>2000</td></tr><tr><td>Pitcairn Islands</td><td>671000</td></tr><tr><td>Poland</td><td>4000</td></tr><tr><td>Portugal</td><td>29000</td></tr><tr><td>Puerto Rico</td><td>116000</td></tr><tr><td>Qatar</td><td>45000</td></tr><tr><td>Reunion</td><td>2000</td></tr><tr><td>Romania</td><td>9000</td></tr><tr><td>Russian Federation</td><td>1000000</td></tr><tr><td>Rwanda</td><td>6000</td></tr><tr><td>Saint Barthelemy</td><td>517</td></tr><tr><td>Saint Helena</td><td>154000</td></tr><tr><td>Saint Kitts and Nevis</td><td>171000</td></tr><tr><td>Saint Lucia</td><td>3000</td></tr><tr><td>Saint Martin</td><td>9000</td></tr><tr><td>Saint Pierre and Miquelon</td><td>323</td></tr><tr><td>Saint Vincent and the Grenadines</td><td>121</td></tr><tr><td>Samoa</td><td>32000</td></tr><tr><td>San Marino</td><td>125000</td></tr><tr><td>Sao Tome and Principe</td><td>2000</td></tr><tr><td>Saudi Arabia</td><td>332</td></tr><tr><td>Senegal</td><td>24000</td></tr><tr><td>Serbia</td><td>248</td></tr><tr><td>Seychelles</td><td>21000</td></tr><tr><td>Singapore</td><td>88000</td></tr><tr><td>Slovakia (Slovak Republic)</td><td>11000</td></tr><tr><td>Slovenia</td><td>12000</td></tr><tr><td>Solomon Islands</td><td>81000</td></tr><tr><td>Somalia</td><td>118000</td></tr><tr><td>South Africa</td><td>3000</td></tr><tr><td>South Georgia and the South Sandwich Islands</td><td>75000</td></tr><tr><td>Sri Lanka</td><td>1000</td></tr><tr><td>Sudan</td><td>63000</td></tr><tr><td>Suriname</td><td>10000</td></tr><tr><td>Svalbard & Jan Mayen Islands</td><td>152000</td></tr><tr><td>Swaziland</td><td>5000</td></tr><tr><td>Sweden</td><td>58000</td></tr><tr><td>Switzerland</td><td>45</td></tr><tr><td>Syrian Arab Republic</td><td>1000</td></tr><tr><td>Taiwan</td><td>32000</td></tr><tr><td>Tajikistan</td><td>95000</td></tr><tr><td>Tanzania</td><td>5000</td></tr><tr><td>Thailand</td><td>10000</td></tr><tr><td>Timor-Leste</td><td>12000</td></tr><tr><td>Togo</td><td>4000</td></tr><tr><td>Tokelau</td><td>384000</td></tr><tr><td>Tonga</td><td>0</td></tr><tr><td>Trinidad and Tobago</td><td>254</td></tr><tr><td>Tunisia</td><td>66000</td></tr><tr><td>Turkey</td><td>40000</td></tr><tr><td>Turkmenistan</td><td>193000</td></tr><tr><td>Turks and Caicos Islands</td><td>19000</td></tr><tr><td>Tuvalu</td><td>41</td></tr><tr><td>Uganda</td><td>3000000</td></tr><tr><td>Ukraine</td><td>10000</td></tr><tr><td>United Kingdom</td><td>30</td></tr><tr><td>United States Minor Outlying Islands</td><td>3000000</td></tr><tr><td>United States Virgin Islands</td><td>4000000</td></tr><tr><td>United States of America</td><td>47000</td></tr><tr><td>Uzbekistan</td><td>57</td></tr><tr><td>Vanuatu</td><td>10000</td></tr><tr><td>Venezuela</td><td>100000</td></tr><tr><td>Vietnam</td><td>15000</td></tr><tr><td>Wallis and Futuna</td><td>2000</td></tr><tr><td>Western Sahara</td><td>2000</td></tr><tr><td>Yemen</td><td>4000</td></tr><tr><td>Zambia</td><td>32000</td></tr></tbody></table></div>"
      ]
     },
     "metadata": {
      "application/vnd.databricks.v1+output": {
       "addedWidgets": {},
       "aggData": [],
       "aggError": "",
       "aggOverflow": false,
       "aggSchema": [],
       "aggSeriesLimitReached": false,
       "aggType": "",
       "arguments": {},
       "columnCustomDisplayInfos": {},
       "data": [
        [
         "Afghanistan",
         3000000
        ],
        [
         "Albania",
         5000000
        ],
        [
         "Algeria",
         5000000
        ],
        [
         "American Samoa",
         8000000
        ],
        [
         "Andorra",
         1000000
        ],
        [
         "Angola",
         8000000
        ],
        [
         "Anguilla",
         15000000
        ],
        [
         "Antarctica (the territory South of 60 deg S)",
         1000000
        ],
        [
         "Antigua and Barbuda",
         1000000
        ],
        [
         "Argentina",
         2000000
        ],
        [
         "Armenia",
         892000
        ],
        [
         "Aruba",
         874000
        ],
        [
         "Australia",
         2000000
        ],
        [
         "Austria",
         813000
        ],
        [
         "Azerbaijan",
         6000000
        ],
        [
         "Bahamas",
         948000
        ],
        [
         "Bahrain",
         337000
        ],
        [
         "Bangladesh",
         4000000
        ],
        [
         "Barbados",
         410000
        ],
        [
         "Belarus",
         648000
        ],
        [
         "Belgium",
         944000
        ],
        [
         "Belize",
         267000
        ],
        [
         "Benin",
         432000
        ],
        [
         "Bermuda",
         83000
        ],
        [
         "Bhutan",
         130000
        ],
        [
         "Bolivia",
         595000
        ],
        [
         "Bosnia and Herzegovina",
         388000
        ],
        [
         "Botswana",
         3000000
        ],
        [
         "Bouvet Island (Bouvetoya)",
         5000000
        ],
        [
         "Brazil",
         42000
        ],
        [
         "British Indian Ocean Territory (Chagos Archipelago)",
         248000
        ],
        [
         "British Virgin Islands",
         1000000
        ],
        [
         "Brunei Darussalam",
         277000
        ],
        [
         "Bulgaria",
         912000
        ],
        [
         "Burkina Faso",
         6000000
        ],
        [
         "Burundi",
         620000
        ],
        [
         "Cambodia",
         2000000
        ],
        [
         "Cameroon",
         123000
        ],
        [
         "Canada",
         258000
        ],
        [
         "Cape Verde",
         178000
        ],
        [
         "Cayman Islands",
         1000000
        ],
        [
         "Central African Republic",
         868000
        ],
        [
         "Chad",
         226000
        ],
        [
         "Chile",
         89000
        ],
        [
         "China",
         127000
        ],
        [
         "Christmas Island",
         3000000
        ],
        [
         "Cocos (Keeling) Islands",
         709000
        ],
        [
         "Colombia",
         466000
        ],
        [
         "Comoros",
         4000000
        ],
        [
         "Congo",
         410000
        ],
        [
         "Cook Islands",
         31000
        ],
        [
         "Costa Rica",
         2000000
        ],
        [
         "Cote d'Ivoire",
         565000
        ],
        [
         "Croatia",
         157000
        ],
        [
         "Cuba",
         1000000
        ],
        [
         "Cyprus",
         117000
        ],
        [
         "Czech Republic",
         398000
        ],
        [
         "Denmark",
         36000
        ],
        [
         "Djibouti",
         307000
        ],
        [
         "Dominica",
         67000
        ],
        [
         "Dominican Republic",
         104000
        ],
        [
         "Ecuador",
         84000
        ],
        [
         "Egypt",
         346000
        ],
        [
         "El Salvador",
         221000
        ],
        [
         "Equatorial Guinea",
         10000
        ],
        [
         "Eritrea",
         105000
        ],
        [
         "Estonia",
         13000
        ],
        [
         "Ethiopia",
         253000
        ],
        [
         "Falkland Islands (Malvinas)",
         113000
        ],
        [
         "Faroe Islands",
         11000
        ],
        [
         "Fiji",
         41000
        ],
        [
         "Finland",
         79000
        ],
        [
         "France",
         115000
        ],
        [
         "French Guiana",
         241000
        ],
        [
         "French Polynesia",
         168000
        ],
        [
         "French Southern Territories",
         119000
        ],
        [
         "Gabon",
         88000
        ],
        [
         "Gambia",
         61000
        ],
        [
         "Georgia",
         203000
        ],
        [
         "Germany",
         48000
        ],
        [
         "Ghana",
         1000000
        ],
        [
         "Gibraltar",
         89000
        ],
        [
         "Greece",
         397000
        ],
        [
         "Greenland",
         2000000
        ],
        [
         "Grenada",
         185000
        ],
        [
         "Guadeloupe",
         355000
        ],
        [
         "Guam",
         4000000
        ],
        [
         "Guatemala",
         965000
        ],
        [
         "Guernsey",
         32000
        ],
        [
         "Guinea",
         134000
        ],
        [
         "Guinea-Bissau",
         160000
        ],
        [
         "Guyana",
         29000
        ],
        [
         "Haiti",
         100000
        ],
        [
         "Heard Island and McDonald Islands",
         487000
        ],
        [
         "Holy See (Vatican City State)",
         2000000
        ],
        [
         "Honduras",
         106000
        ],
        [
         "Hong Kong",
         991000
        ],
        [
         "Hungary",
         77000
        ],
        [
         "Iceland",
         5000
        ],
        [
         "India",
         167000
        ],
        [
         "Indonesia",
         252000
        ],
        [
         "Iran",
         520000
        ],
        [
         "Iraq",
         875000
        ],
        [
         "Ireland",
         239000
        ],
        [
         "Isle of Man",
         87000
        ],
        [
         "Israel",
         44000
        ],
        [
         "Italy",
         21000
        ],
        [
         "Jamaica",
         45000
        ],
        [
         "Japan",
         159000
        ],
        [
         "Jersey",
         9000
        ],
        [
         "Jordan",
         5000
        ],
        [
         "Kazakhstan",
         75000
        ],
        [
         "Kenya",
         95000
        ],
        [
         "Kiribati",
         8000
        ],
        [
         "Korea",
         627000
        ],
        [
         "Kuwait",
         2000000
        ],
        [
         "Kyrgyz Republic",
         87000
        ],
        [
         "Lao People's Democratic Republic",
         375000
        ],
        [
         "Latvia",
         188000
        ],
        [
         "Lebanon",
         163000
        ],
        [
         "Lesotho",
         908000
        ],
        [
         "Liberia",
         550000
        ],
        [
         "Libyan Arab Jamahiriya",
         157000
        ],
        [
         "Liechtenstein",
         342000
        ],
        [
         "Lithuania",
         52000
        ],
        [
         "Luxembourg",
         35000
        ],
        [
         "Macao",
         3000
        ],
        [
         "Macedonia",
         10000
        ],
        [
         "Madagascar",
         112000
        ],
        [
         "Malawi",
         18000
        ],
        [
         "Maldives",
         416000
        ],
        [
         "Mali",
         122000
        ],
        [
         "Malta",
         219000
        ],
        [
         "Marshall Islands",
         13000
        ],
        [
         "Martinique",
         1000000
        ],
        [
         "Mauritania",
         22000
        ],
        [
         "Mauritius",
         46000
        ],
        [
         "Mayotte",
         65000
        ],
        [
         "Mexico",
         9000
        ],
        [
         "Micronesia",
         2000
        ],
        [
         "Moldova",
         74000
        ],
        [
         "Monaco",
         227000
        ],
        [
         "Mongolia",
         893000
        ],
        [
         "Montenegro",
         45000
        ],
        [
         "Montserrat",
         20000
        ],
        [
         "Morocco",
         13000
        ],
        [
         "Mozambique",
         83000
        ],
        [
         "Myanmar",
         88000
        ],
        [
         "Namibia",
         168000
        ],
        [
         "Nauru",
         45000
        ],
        [
         "Nepal",
         197000
        ],
        [
         "Netherlands",
         308000
        ],
        [
         "Netherlands Antilles",
         61000
        ],
        [
         "New Caledonia",
         20000
        ],
        [
         "New Zealand",
         19000
        ],
        [
         "Nicaragua",
         12000
        ],
        [
         "Niger",
         4000
        ],
        [
         "Nigeria",
         60000
        ],
        [
         "Niue",
         271000
        ],
        [
         "Norfolk Island",
         60000
        ],
        [
         "Norway",
         409000
        ],
        [
         "Oman",
         11000
        ],
        [
         "Pakistan",
         441000
        ],
        [
         "Palau",
         6000
        ],
        [
         "Palestinian Territory",
         561000
        ],
        [
         "Panama",
         1000
        ],
        [
         "Papua New Guinea",
         5000
        ],
        [
         "Paraguay",
         7000
        ],
        [
         "Peru",
         6000
        ],
        [
         "Philippines",
         2000
        ],
        [
         "Pitcairn Islands",
         671000
        ],
        [
         "Poland",
         4000
        ],
        [
         "Portugal",
         29000
        ],
        [
         "Puerto Rico",
         116000
        ],
        [
         "Qatar",
         45000
        ],
        [
         "Reunion",
         2000
        ],
        [
         "Romania",
         9000
        ],
        [
         "Russian Federation",
         1000000
        ],
        [
         "Rwanda",
         6000
        ],
        [
         "Saint Barthelemy",
         517
        ],
        [
         "Saint Helena",
         154000
        ],
        [
         "Saint Kitts and Nevis",
         171000
        ],
        [
         "Saint Lucia",
         3000
        ],
        [
         "Saint Martin",
         9000
        ],
        [
         "Saint Pierre and Miquelon",
         323
        ],
        [
         "Saint Vincent and the Grenadines",
         121
        ],
        [
         "Samoa",
         32000
        ],
        [
         "San Marino",
         125000
        ],
        [
         "Sao Tome and Principe",
         2000
        ],
        [
         "Saudi Arabia",
         332
        ],
        [
         "Senegal",
         24000
        ],
        [
         "Serbia",
         248
        ],
        [
         "Seychelles",
         21000
        ],
        [
         "Singapore",
         88000
        ],
        [
         "Slovakia (Slovak Republic)",
         11000
        ],
        [
         "Slovenia",
         12000
        ],
        [
         "Solomon Islands",
         81000
        ],
        [
         "Somalia",
         118000
        ],
        [
         "South Africa",
         3000
        ],
        [
         "South Georgia and the South Sandwich Islands",
         75000
        ],
        [
         "Sri Lanka",
         1000
        ],
        [
         "Sudan",
         63000
        ],
        [
         "Suriname",
         10000
        ],
        [
         "Svalbard & Jan Mayen Islands",
         152000
        ],
        [
         "Swaziland",
         5000
        ],
        [
         "Sweden",
         58000
        ],
        [
         "Switzerland",
         45
        ],
        [
         "Syrian Arab Republic",
         1000
        ],
        [
         "Taiwan",
         32000
        ],
        [
         "Tajikistan",
         95000
        ],
        [
         "Tanzania",
         5000
        ],
        [
         "Thailand",
         10000
        ],
        [
         "Timor-Leste",
         12000
        ],
        [
         "Togo",
         4000
        ],
        [
         "Tokelau",
         384000
        ],
        [
         "Tonga",
         0
        ],
        [
         "Trinidad and Tobago",
         254
        ],
        [
         "Tunisia",
         66000
        ],
        [
         "Turkey",
         40000
        ],
        [
         "Turkmenistan",
         193000
        ],
        [
         "Turks and Caicos Islands",
         19000
        ],
        [
         "Tuvalu",
         41
        ],
        [
         "Uganda",
         3000000
        ],
        [
         "Ukraine",
         10000
        ],
        [
         "United Kingdom",
         30
        ],
        [
         "United States Minor Outlying Islands",
         3000000
        ],
        [
         "United States Virgin Islands",
         4000000
        ],
        [
         "United States of America",
         47000
        ],
        [
         "Uzbekistan",
         57
        ],
        [
         "Vanuatu",
         10000
        ],
        [
         "Venezuela",
         100000
        ],
        [
         "Vietnam",
         15000
        ],
        [
         "Wallis and Futuna",
         2000
        ],
        [
         "Western Sahara",
         2000
        ],
        [
         "Yemen",
         4000
        ],
        [
         "Zambia",
         32000
        ]
       ],
       "datasetInfos": [],
       "dbfsResultPath": null,
       "isJsonSchema": true,
       "metadata": {},
       "overflow": false,
       "plotOptions": {
        "customPlotOptions": {},
        "displayType": "table",
        "pivotAggregation": null,
        "pivotColumns": null,
        "xColumns": null,
        "yColumns": null
       },
       "removedWidgets": [],
       "schema": [
        {
         "metadata": "{}",
         "name": "country",
         "type": "\"string\""
        },
        {
         "metadata": "{}",
         "name": "follower_count",
         "type": "\"integer\""
        }
       ],
       "type": "table"
      }
     },
     "output_type": "display_data"
    }
   ],
   "source": [
    "# For each country find the user with the most followers\n",
    "df_pin_cleaned.createOrReplaceGlobalTempView(\"pin_df\")\n",
    "df_geo_cleaned.createOrReplaceGlobalTempView(\"geo_df\")\n",
    "\n",
    "follower_result = spark.sql(\"\"\"\n",
    "WITH RankedUsers AS (\n",
    "    SELECT\n",
    "        g.country,\n",
    "        p.poster_name,\n",
    "        p.follower_count,\n",
    "        ROW_NUMBER() OVER (PARTITION BY g.country ORDER BY p.follower_count DESC) AS rank\n",
    "    FROM\n",
    "        global_temp.geo_df g\n",
    "    JOIN\n",
    "        global_temp.pin_df p\n",
    "    ON\n",
    "        g.ind = p.ind\n",
    ")\n",
    "\n",
    "SELECT\n",
    "    country,\n",
    "    poster_name,\n",
    "    follower_count\n",
    "FROM\n",
    "    RankedUsers\n",
    "WHERE\n",
    "    rank = 1\n",
    "\"\"\")\n",
    "\n",
    "display(follower_result)"
   ]
  },
  {
   "cell_type": "code",
   "execution_count": 0,
   "metadata": {
    "application/vnd.databricks.v1+cell": {
     "cellMetadata": {
      "byteLimit": 2048000,
      "rowLimit": 10000
     },
     "inputWidgets": {},
     "nuid": "1c777e5d-2ff0-4f70-b32c-d28c720a4aa3",
     "showTitle": false,
     "title": ""
    }
   },
   "outputs": [
    {
     "output_type": "display_data",
     "data": {
      "text/html": [
       "<style scoped>\n",
       "  .table-result-container {\n",
       "    max-height: 300px;\n",
       "    overflow: auto;\n",
       "  }\n",
       "  table, th, td {\n",
       "    border: 1px solid black;\n",
       "    border-collapse: collapse;\n",
       "  }\n",
       "  th, td {\n",
       "    padding: 5px;\n",
       "  }\n",
       "  th {\n",
       "    text-align: left;\n",
       "  }\n",
       "</style><div class='table-result-container'><table class='table-result'><thead style='background-color: white'><tr><th>age_group</th><th>top_category</th><th>top_category_count</th></tr></thead><tbody><tr><td>+50</td><td>vehicles</td><td>27</td></tr><tr><td>18-24</td><td>art</td><td>133</td></tr><tr><td>25-35</td><td>education</td><td>70</td></tr><tr><td>36-50</td><td>travel</td><td>56</td></tr></tbody></table></div>"
      ]
     },
     "metadata": {
      "application/vnd.databricks.v1+output": {
       "addedWidgets": {},
       "aggData": [],
       "aggError": "",
       "aggOverflow": false,
       "aggSchema": [],
       "aggSeriesLimitReached": false,
       "aggType": "",
       "arguments": {},
       "columnCustomDisplayInfos": {},
       "data": [
        [
         "+50",
         "vehicles",
         27
        ],
        [
         "18-24",
         "art",
         133
        ],
        [
         "25-35",
         "education",
         70
        ],
        [
         "36-50",
         "travel",
         56
        ]
       ],
       "datasetInfos": [],
       "dbfsResultPath": null,
       "isJsonSchema": true,
       "metadata": {},
       "overflow": false,
       "plotOptions": {
        "customPlotOptions": {},
        "displayType": "table",
        "pivotAggregation": null,
        "pivotColumns": null,
        "xColumns": null,
        "yColumns": null
       },
       "removedWidgets": [],
       "schema": [
        {
         "metadata": "{}",
         "name": "age_group",
         "type": "\"string\""
        },
        {
         "metadata": "{}",
         "name": "top_category",
         "type": "\"string\""
        },
        {
         "metadata": "{}",
         "name": "top_category_count",
         "type": "\"long\""
        }
       ],
       "type": "table"
      }
     },
     "output_type": "display_data"
    }
   ],
   "source": [
    "# Find the most popular category for each age group\n",
    "df_pin_cleaned.createOrReplaceGlobalTempView(\"pin_df\")\n",
    "df_user_cleaned.createOrReplaceGlobalTempView(\"user_df\")\n",
    "\n",
    "age_df = spark.sql(\"\"\"\n",
    "WITH AgeGroups AS (\n",
    "    SELECT\n",
    "        u.age,\n",
    "        p.category,\n",
    "        CASE\n",
    "            WHEN u.age BETWEEN 18 AND 24 THEN '18-24'\n",
    "            WHEN u.age BETWEEN 25 AND 35 THEN '25-35'\n",
    "            WHEN u.age BETWEEN 36 AND 50 THEN '36-50'\n",
    "            ELSE '+50'\n",
    "        END AS age_group\n",
    "    FROM\n",
    "        global_temp.user_df u\n",
    "    JOIN\n",
    "        global_temp.pin_df p\n",
    "    ON\n",
    "        u.ind = p.ind\n",
    "),\n",
    "\n",
    "RankedCategories AS (\n",
    "    SELECT\n",
    "        ag.age_group,\n",
    "        ag.category,\n",
    "        COUNT(*) AS category_count,\n",
    "        ROW_NUMBER() OVER (PARTITION BY ag.age_group ORDER BY COUNT(*) DESC) AS rank\n",
    "    FROM\n",
    "        AgeGroups ag\n",
    "    GROUP BY\n",
    "        ag.age_group,\n",
    "        ag.category\n",
    ")\n",
    "\n",
    "SELECT\n",
    "    rc.age_group,\n",
    "    rc.category AS top_category,\n",
    "    rc.category_count AS top_category_count\n",
    "FROM\n",
    "    RankedCategories rc\n",
    "WHERE\n",
    "    rc.rank = 1\n",
    "\"\"\")\n",
    "\n",
    "display(age_df)"
   ]
  },
  {
   "cell_type": "code",
   "execution_count": 0,
   "metadata": {
    "application/vnd.databricks.v1+cell": {
     "cellMetadata": {
      "byteLimit": 2048000,
      "rowLimit": 10000
     },
     "inputWidgets": {},
     "nuid": "dcc71d3a-06de-4bd4-960e-d24b8a824847",
     "showTitle": false,
     "title": ""
    }
   },
   "outputs": [
    {
     "output_type": "display_data",
     "data": {
      "text/html": [
       "<style scoped>\n",
       "  .table-result-container {\n",
       "    max-height: 300px;\n",
       "    overflow: auto;\n",
       "  }\n",
       "  table, th, td {\n",
       "    border: 1px solid black;\n",
       "    border-collapse: collapse;\n",
       "  }\n",
       "  th, td {\n",
       "    padding: 5px;\n",
       "  }\n",
       "  th {\n",
       "    text-align: left;\n",
       "  }\n",
       "</style><div class='table-result-container'><table class='table-result'><thead style='background-color: white'><tr><th>age_group</th><th>median_follower_count</th></tr></thead><tbody><tr><td>36-50</td><td>7000.0</td></tr><tr><td>+50</td><td>877.0</td></tr><tr><td>18-24</td><td>123000.0</td></tr><tr><td>25-35</td><td>22000.0</td></tr></tbody></table></div>"
      ]
     },
     "metadata": {
      "application/vnd.databricks.v1+output": {
       "addedWidgets": {},
       "aggData": [],
       "aggError": "",
       "aggOverflow": false,
       "aggSchema": [],
       "aggSeriesLimitReached": false,
       "aggType": "",
       "arguments": {},
       "columnCustomDisplayInfos": {},
       "data": [
        [
         "36-50",
         7000.0
        ],
        [
         "+50",
         877.0
        ],
        [
         "18-24",
         123000.0
        ],
        [
         "25-35",
         22000.0
        ]
       ],
       "datasetInfos": [],
       "dbfsResultPath": null,
       "isJsonSchema": true,
       "metadata": {},
       "overflow": false,
       "plotOptions": {
        "customPlotOptions": {},
        "displayType": "table",
        "pivotAggregation": null,
        "pivotColumns": null,
        "xColumns": null,
        "yColumns": null
       },
       "removedWidgets": [],
       "schema": [
        {
         "metadata": "{}",
         "name": "age_group",
         "type": "\"string\""
        },
        {
         "metadata": "{}",
         "name": "median_follower_count",
         "type": "\"double\""
        }
       ],
       "type": "table"
      }
     },
     "output_type": "display_data"
    }
   ],
   "source": [
    "#Find the median follower count for different age group\n",
    "df_pin_cleaned.createOrReplaceGlobalTempView(\"pin_df\")\n",
    "df_user_cleaned.createOrReplaceGlobalTempView(\"user_df\")\n",
    "\n",
    "med_follower_count_df = spark.sql(\"\"\"\n",
    "WITH AgeGroups AS (\n",
    "    SELECT\n",
    "        u.age,\n",
    "        p.follower_count,\n",
    "        CASE\n",
    "            WHEN u.age BETWEEN 18 AND 24 THEN '18-24'\n",
    "            WHEN u.age BETWEEN 25 AND 35 THEN '25-35'\n",
    "            WHEN u.age BETWEEN 36 AND 50 THEN '36-50'\n",
    "            ELSE '+50'\n",
    "        END AS age_group\n",
    "    FROM\n",
    "        global_temp.user_df u\n",
    "    JOIN\n",
    "        global_temp.pin_df p\n",
    "    ON\n",
    "        u.ind = p.ind\n",
    ")\n",
    "\n",
    "SELECT\n",
    "    age_group,\n",
    "    percentile(follower_count, 0.5) AS median_follower_count\n",
    "FROM\n",
    "    AgeGroups\n",
    "GROUP BY\n",
    "    age_group\n",
    "\"\"\")\n",
    "\n",
    "display(med_follower_count_df)"
   ]
  },
  {
   "cell_type": "code",
   "execution_count": 0,
   "metadata": {
    "application/vnd.databricks.v1+cell": {
     "cellMetadata": {
      "byteLimit": 2048000,
      "rowLimit": 10000
     },
     "inputWidgets": {},
     "nuid": "0cf60643-d409-4f1e-b586-fd158b799dc5",
     "showTitle": false,
     "title": ""
    }
   },
   "outputs": [
    {
     "output_type": "display_data",
     "data": {
      "text/html": [
       "<style scoped>\n",
       "  .table-result-container {\n",
       "    max-height: 300px;\n",
       "    overflow: auto;\n",
       "  }\n",
       "  table, th, td {\n",
       "    border: 1px solid black;\n",
       "    border-collapse: collapse;\n",
       "  }\n",
       "  th, td {\n",
       "    padding: 5px;\n",
       "  }\n",
       "  th {\n",
       "    text-align: left;\n",
       "  }\n",
       "</style><div class='table-result-container'><table class='table-result'><thead style='background-color: white'><tr><th>post_year</th><th>number_users_joined</th></tr></thead><tbody><tr><td>2015</td><td>804</td></tr><tr><td>2016</td><td>929</td></tr><tr><td>2017</td><td>327</td></tr></tbody></table></div>"
      ]
     },
     "metadata": {
      "application/vnd.databricks.v1+output": {
       "addedWidgets": {},
       "aggData": [],
       "aggError": "",
       "aggOverflow": false,
       "aggSchema": [],
       "aggSeriesLimitReached": false,
       "aggType": "",
       "arguments": {},
       "columnCustomDisplayInfos": {},
       "data": [
        [
         2015,
         804
        ],
        [
         2016,
         929
        ],
        [
         2017,
         327
        ]
       ],
       "datasetInfos": [],
       "dbfsResultPath": null,
       "isJsonSchema": true,
       "metadata": {},
       "overflow": false,
       "plotOptions": {
        "customPlotOptions": {},
        "displayType": "table",
        "pivotAggregation": null,
        "pivotColumns": null,
        "xColumns": null,
        "yColumns": null
       },
       "removedWidgets": [],
       "schema": [
        {
         "metadata": "{}",
         "name": "post_year",
         "type": "\"integer\""
        },
        {
         "metadata": "{}",
         "name": "number_users_joined",
         "type": "\"long\""
        }
       ],
       "type": "table"
      }
     },
     "output_type": "display_data"
    }
   ],
   "source": [
    "# Find how many users have joined between 2015 and 2020\n",
    "df_user_cleaned.createOrReplaceGlobalTempView(\"user_df\")\n",
    "\n",
    "user_joined_df = spark.sql(\"\"\"\n",
    "SELECT\n",
    "    YEAR(date_joined) AS post_year,\n",
    "    COUNT(*) AS number_users_joined\n",
    "FROM\n",
    "    global_temp.user_df\n",
    "WHERE\n",
    "    YEAR(date_joined) BETWEEN 2015 AND 2020\n",
    "GROUP BY\n",
    "    post_year\n",
    "ORDER BY\n",
    "    post_year\n",
    "\"\"\")\n",
    "\n",
    "display(user_joined_df)"
   ]
  },
  {
   "cell_type": "code",
   "execution_count": 0,
   "metadata": {
    "application/vnd.databricks.v1+cell": {
     "cellMetadata": {
      "byteLimit": 2048000,
      "rowLimit": 10000
     },
     "inputWidgets": {},
     "nuid": "6ec237e6-f1ab-465b-82c9-c05ba801cf16",
     "showTitle": false,
     "title": ""
    }
   },
   "outputs": [
    {
     "output_type": "display_data",
     "data": {
      "text/html": [
       "<style scoped>\n",
       "  .table-result-container {\n",
       "    max-height: 300px;\n",
       "    overflow: auto;\n",
       "  }\n",
       "  table, th, td {\n",
       "    border: 1px solid black;\n",
       "    border-collapse: collapse;\n",
       "  }\n",
       "  th, td {\n",
       "    padding: 5px;\n",
       "  }\n",
       "  th {\n",
       "    text-align: left;\n",
       "  }\n",
       "</style><div class='table-result-container'><table class='table-result'><thead style='background-color: white'><tr><th>post_year</th><th>median_follower_count</th></tr></thead><tbody><tr><td>2015</td><td>166000</td></tr><tr><td>2016</td><td>17000</td></tr><tr><td>2017</td><td>3000</td></tr></tbody></table></div>"
      ]
     },
     "metadata": {
      "application/vnd.databricks.v1+output": {
       "addedWidgets": {},
       "aggData": [],
       "aggError": "",
       "aggOverflow": false,
       "aggSchema": [],
       "aggSeriesLimitReached": false,
       "aggType": "",
       "arguments": {},
       "columnCustomDisplayInfos": {},
       "data": [
        [
         2015,
         166000
        ],
        [
         2016,
         17000
        ],
        [
         2017,
         3000
        ]
       ],
       "datasetInfos": [],
       "dbfsResultPath": null,
       "isJsonSchema": true,
       "metadata": {},
       "overflow": false,
       "plotOptions": {
        "customPlotOptions": {},
        "displayType": "table",
        "pivotAggregation": null,
        "pivotColumns": null,
        "xColumns": null,
        "yColumns": null
       },
       "removedWidgets": [],
       "schema": [
        {
         "metadata": "{}",
         "name": "post_year",
         "type": "\"integer\""
        },
        {
         "metadata": "{}",
         "name": "median_follower_count",
         "type": "\"integer\""
        }
       ],
       "type": "table"
      }
     },
     "output_type": "display_data"
    }
   ],
   "source": [
    "# Find the median follower count of users have joined between 2015 and 2020\n",
    "df_user_cleaned.createOrReplaceGlobalTempView(\"user_df\")\n",
    "\n",
    "med_users_df = spark.sql(\"\"\"\n",
    "SELECT\n",
    "    YEAR(u.date_joined) AS post_year,\n",
    "    percentile_approx(p.follower_count, 0.5) AS median_follower_count\n",
    "FROM\n",
    "    global_temp.user_df u\n",
    "JOIN\n",
    "    global_temp.df_pin p\n",
    "ON\n",
    "    u.ind = p.ind\n",
    "WHERE\n",
    "    YEAR(u.date_joined) BETWEEN 2015 AND 2020\n",
    "GROUP BY\n",
    "    post_year\n",
    "ORDER BY\n",
    "    post_year\n",
    "\"\"\")\n",
    "\n",
    "display(med_users_df)"
   ]
  },
  {
   "cell_type": "code",
   "execution_count": 0,
   "metadata": {
    "application/vnd.databricks.v1+cell": {
     "cellMetadata": {
      "byteLimit": 2048000,
      "rowLimit": 10000
     },
     "inputWidgets": {},
     "nuid": "bf141702-6e97-4af8-be1a-c2a7bc54c765",
     "showTitle": false,
     "title": ""
    }
   },
   "outputs": [
    {
     "output_type": "display_data",
     "data": {
      "text/html": [
       "<style scoped>\n",
       "  .table-result-container {\n",
       "    max-height: 300px;\n",
       "    overflow: auto;\n",
       "  }\n",
       "  table, th, td {\n",
       "    border: 1px solid black;\n",
       "    border-collapse: collapse;\n",
       "  }\n",
       "  th, td {\n",
       "    padding: 5px;\n",
       "  }\n",
       "  th {\n",
       "    text-align: left;\n",
       "  }\n",
       "</style><div class='table-result-container'><table class='table-result'><thead style='background-color: white'><tr><th>age_group</th><th>post_year</th><th>median_follower_count</th></tr></thead><tbody><tr><td>+50</td><td>2015</td><td>14000</td></tr><tr><td>+50</td><td>2016</td><td>504</td></tr><tr><td>+50</td><td>2017</td><td>1000</td></tr><tr><td>18-24</td><td>2015</td><td>228000</td></tr><tr><td>18-24</td><td>2016</td><td>41000</td></tr><tr><td>18-24</td><td>2017</td><td>9000</td></tr><tr><td>25-35</td><td>2015</td><td>42000</td></tr><tr><td>25-35</td><td>2016</td><td>21000</td></tr><tr><td>25-35</td><td>2017</td><td>6000</td></tr><tr><td>36-50</td><td>2015</td><td>13000</td></tr><tr><td>36-50</td><td>2016</td><td>9000</td></tr><tr><td>36-50</td><td>2017</td><td>3000</td></tr></tbody></table></div>"
      ]
     },
     "metadata": {
      "application/vnd.databricks.v1+output": {
       "addedWidgets": {},
       "aggData": [],
       "aggError": "",
       "aggOverflow": false,
       "aggSchema": [],
       "aggSeriesLimitReached": false,
       "aggType": "",
       "arguments": {},
       "columnCustomDisplayInfos": {},
       "data": [
        [
         "+50",
         2015,
         14000
        ],
        [
         "+50",
         2016,
         504
        ],
        [
         "+50",
         2017,
         1000
        ],
        [
         "18-24",
         2015,
         228000
        ],
        [
         "18-24",
         2016,
         41000
        ],
        [
         "18-24",
         2017,
         9000
        ],
        [
         "25-35",
         2015,
         42000
        ],
        [
         "25-35",
         2016,
         21000
        ],
        [
         "25-35",
         2017,
         6000
        ],
        [
         "36-50",
         2015,
         13000
        ],
        [
         "36-50",
         2016,
         9000
        ],
        [
         "36-50",
         2017,
         3000
        ]
       ],
       "datasetInfos": [],
       "dbfsResultPath": null,
       "isJsonSchema": true,
       "metadata": {},
       "overflow": false,
       "plotOptions": {
        "customPlotOptions": {},
        "displayType": "table",
        "pivotAggregation": null,
        "pivotColumns": null,
        "xColumns": null,
        "yColumns": null
       },
       "removedWidgets": [],
       "schema": [
        {
         "metadata": "{}",
         "name": "age_group",
         "type": "\"string\""
        },
        {
         "metadata": "{}",
         "name": "post_year",
         "type": "\"integer\""
        },
        {
         "metadata": "{}",
         "name": "median_follower_count",
         "type": "\"integer\""
        }
       ],
       "type": "table"
      }
     },
     "output_type": "display_data"
    }
   ],
   "source": [
    "# Find the median follower count of users that have joined between 2015 and 2020, based on which age group they are part of\n",
    "df_user_cleaned.createOrReplaceGlobalTempView(\"user_df\")\n",
    "\n",
    "med_users_age_group_df = spark.sql(\"\"\"\n",
    "WITH UserAgeGroups AS (\n",
    "    SELECT\n",
    "        CASE\n",
    "            WHEN age >= 18 AND age <= 24 THEN '18-24'\n",
    "            WHEN age >= 25 AND age <= 35 THEN '25-35'\n",
    "            WHEN age >= 36 AND age <= 50 THEN '36-50'\n",
    "            ELSE '+50'\n",
    "        END AS age_group,\n",
    "        YEAR(u.date_joined) AS post_year,\n",
    "        p.follower_count AS follower_count\n",
    "    FROM\n",
    "        global_temp.user_df u\n",
    "    JOIN\n",
    "        global_temp.pin_df p\n",
    "    ON\n",
    "        u.ind = p.ind\n",
    "    WHERE\n",
    "        YEAR(u.date_joined) BETWEEN 2015 AND 2020\n",
    ")\n",
    "SELECT\n",
    "    age_group,\n",
    "    post_year,\n",
    "    percentile_approx(follower_count, 0.5) AS median_follower_count\n",
    "FROM\n",
    "    UserAgeGroups\n",
    "GROUP BY\n",
    "    age_group,\n",
    "    post_year\n",
    "ORDER BY\n",
    "    age_group,\n",
    "    post_year\n",
    "\"\"\")\n",
    "\n",
    "display(med_users_age_group_df)"
   ]
  }
 ],
 "metadata": {
  "application/vnd.databricks.v1+notebook": {
   "dashboards": [],
   "language": "python",
   "notebookMetadata": {
    "pythonIndentUnit": 4
   },
   "notebookName": "clean_and_analyse_pinterest_data",
   "widgets": {}
  }
 },
 "nbformat": 4,
 "nbformat_minor": 0
}
